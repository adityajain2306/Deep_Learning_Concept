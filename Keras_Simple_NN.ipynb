{
 "cells": [
  {
   "cell_type": "markdown",
   "metadata": {
    "id": "oPb5eqE0yCJt"
   },
   "source": [
    "### Type of Models\n",
    "\n",
    "sequential vs Functional\n",
    "\n",
    "### Type of Layer\n",
    "\n",
    "Desnse\n",
    "\n",
    "Dropout\n",
    "\n",
    "Conv 2D\n",
    "\n",
    "Flattern\n",
    "\n",
    "MaxPooling\n",
    "\n",
    "ZeroPadding\n",
    "\n",
    "SimpleRNN\n",
    "\n",
    "batch Normalization\n",
    "\n",
    "\n",
    "\n"
   ]
  },
  {
   "cell_type": "code",
   "execution_count": 1,
   "metadata": {
    "executionInfo": {
     "elapsed": 8981,
     "status": "ok",
     "timestamp": 1705493776168,
     "user": {
      "displayName": "IACSD Akurdi",
      "userId": "10433988175144222979"
     },
     "user_tz": -330
    },
    "id": "HrjhCn8Kp_fn"
   },
   "outputs": [],
   "source": [
    "from pandas import read_csv\n",
    "import pandas as pd\n",
    "from sklearn.model_selection import train_test_split\n",
    "from sklearn.preprocessing import LabelEncoder\n",
    "from tensorflow.keras import Sequential\n",
    "from tensorflow.keras.layers import Dense, Dropout"
   ]
  },
  {
   "cell_type": "code",
   "execution_count": 2,
   "metadata": {
    "id": "gKB_e4w_qmgc"
   },
   "outputs": [],
   "source": [
    "#path = '/content/lung_data.csv'\n",
    "df = read_csv('lung_data.csv')"
   ]
  },
  {
   "cell_type": "code",
   "execution_count": 3,
   "metadata": {
    "colab": {
     "base_uri": "https://localhost:8080/",
     "height": 445
    },
    "executionInfo": {
     "elapsed": 420,
     "status": "ok",
     "timestamp": 1691571831833,
     "user": {
      "displayName": "shantanu pathak",
      "userId": "10566305450164209704"
     },
     "user_tz": -330
    },
    "id": "3oriJK82PxlW",
    "outputId": "372df71a-b3f3-4af2-883a-5508dbcd6440"
   },
   "outputs": [
    {
     "data": {
      "text/html": [
       "<div>\n",
       "<style scoped>\n",
       "    .dataframe tbody tr th:only-of-type {\n",
       "        vertical-align: middle;\n",
       "    }\n",
       "\n",
       "    .dataframe tbody tr th {\n",
       "        vertical-align: top;\n",
       "    }\n",
       "\n",
       "    .dataframe thead th {\n",
       "        text-align: right;\n",
       "    }\n",
       "</style>\n",
       "<table border=\"1\" class=\"dataframe\">\n",
       "  <thead>\n",
       "    <tr style=\"text-align: right;\">\n",
       "      <th></th>\n",
       "      <th>age</th>\n",
       "      <th>gender</th>\n",
       "      <th>city</th>\n",
       "      <th>asbestos exposure</th>\n",
       "      <th>type of MM</th>\n",
       "      <th>duration of asbestos exposure</th>\n",
       "      <th>diagnosis method</th>\n",
       "      <th>keep side</th>\n",
       "      <th>cytology</th>\n",
       "      <th>duration of symptoms</th>\n",
       "      <th>...</th>\n",
       "      <th>pleural lactic dehydrogenise</th>\n",
       "      <th>pleural protein</th>\n",
       "      <th>pleural albumin</th>\n",
       "      <th>pleural glucose</th>\n",
       "      <th>dead or not</th>\n",
       "      <th>pleural effusion</th>\n",
       "      <th>pleural thickness on tomography</th>\n",
       "      <th>pleural level of acidity (pH)</th>\n",
       "      <th>C-reactive protein (CRP)</th>\n",
       "      <th>class of diagnosis</th>\n",
       "    </tr>\n",
       "  </thead>\n",
       "  <tbody>\n",
       "    <tr>\n",
       "      <th>count</th>\n",
       "      <td>324.000000</td>\n",
       "      <td>324.000000</td>\n",
       "      <td>324.000000</td>\n",
       "      <td>324.000000</td>\n",
       "      <td>324.000000</td>\n",
       "      <td>324.000000</td>\n",
       "      <td>324.000000</td>\n",
       "      <td>324.000000</td>\n",
       "      <td>324.000000</td>\n",
       "      <td>324.000000</td>\n",
       "      <td>...</td>\n",
       "      <td>324.000000</td>\n",
       "      <td>324.000000</td>\n",
       "      <td>324.000000</td>\n",
       "      <td>324.000000</td>\n",
       "      <td>324.000000</td>\n",
       "      <td>324.000000</td>\n",
       "      <td>324.000000</td>\n",
       "      <td>324.000000</td>\n",
       "      <td>324.000000</td>\n",
       "      <td>324.000000</td>\n",
       "    </tr>\n",
       "    <tr>\n",
       "      <th>mean</th>\n",
       "      <td>54.743827</td>\n",
       "      <td>0.586420</td>\n",
       "      <td>2.530864</td>\n",
       "      <td>0.864198</td>\n",
       "      <td>0.052469</td>\n",
       "      <td>30.188272</td>\n",
       "      <td>0.703704</td>\n",
       "      <td>0.759259</td>\n",
       "      <td>0.280864</td>\n",
       "      <td>5.442901</td>\n",
       "      <td>...</td>\n",
       "      <td>518.472222</td>\n",
       "      <td>3.937562</td>\n",
       "      <td>2.076883</td>\n",
       "      <td>48.444444</td>\n",
       "      <td>0.944444</td>\n",
       "      <td>0.870370</td>\n",
       "      <td>0.595679</td>\n",
       "      <td>0.521605</td>\n",
       "      <td>64.188272</td>\n",
       "      <td>1.296296</td>\n",
       "    </tr>\n",
       "    <tr>\n",
       "      <th>std</th>\n",
       "      <td>11.002637</td>\n",
       "      <td>0.493237</td>\n",
       "      <td>2.429623</td>\n",
       "      <td>0.343109</td>\n",
       "      <td>0.261622</td>\n",
       "      <td>16.419945</td>\n",
       "      <td>0.457330</td>\n",
       "      <td>0.565308</td>\n",
       "      <td>0.450116</td>\n",
       "      <td>4.717792</td>\n",
       "      <td>...</td>\n",
       "      <td>536.279128</td>\n",
       "      <td>1.575008</td>\n",
       "      <td>0.915411</td>\n",
       "      <td>27.232516</td>\n",
       "      <td>0.229416</td>\n",
       "      <td>0.336415</td>\n",
       "      <td>0.491519</td>\n",
       "      <td>0.500306</td>\n",
       "      <td>22.661837</td>\n",
       "      <td>0.457330</td>\n",
       "    </tr>\n",
       "    <tr>\n",
       "      <th>min</th>\n",
       "      <td>19.000000</td>\n",
       "      <td>0.000000</td>\n",
       "      <td>0.000000</td>\n",
       "      <td>0.000000</td>\n",
       "      <td>0.000000</td>\n",
       "      <td>0.000000</td>\n",
       "      <td>0.000000</td>\n",
       "      <td>0.000000</td>\n",
       "      <td>0.000000</td>\n",
       "      <td>0.500000</td>\n",
       "      <td>...</td>\n",
       "      <td>110.000000</td>\n",
       "      <td>0.000000</td>\n",
       "      <td>0.000000</td>\n",
       "      <td>2.000000</td>\n",
       "      <td>0.000000</td>\n",
       "      <td>0.000000</td>\n",
       "      <td>0.000000</td>\n",
       "      <td>0.000000</td>\n",
       "      <td>11.000000</td>\n",
       "      <td>1.000000</td>\n",
       "    </tr>\n",
       "    <tr>\n",
       "      <th>25%</th>\n",
       "      <td>47.000000</td>\n",
       "      <td>0.000000</td>\n",
       "      <td>0.000000</td>\n",
       "      <td>1.000000</td>\n",
       "      <td>0.000000</td>\n",
       "      <td>19.750000</td>\n",
       "      <td>0.000000</td>\n",
       "      <td>0.000000</td>\n",
       "      <td>0.000000</td>\n",
       "      <td>2.875000</td>\n",
       "      <td>...</td>\n",
       "      <td>322.000000</td>\n",
       "      <td>3.400000</td>\n",
       "      <td>1.607500</td>\n",
       "      <td>29.000000</td>\n",
       "      <td>1.000000</td>\n",
       "      <td>1.000000</td>\n",
       "      <td>0.000000</td>\n",
       "      <td>0.000000</td>\n",
       "      <td>42.000000</td>\n",
       "      <td>1.000000</td>\n",
       "    </tr>\n",
       "    <tr>\n",
       "      <th>50%</th>\n",
       "      <td>55.000000</td>\n",
       "      <td>1.000000</td>\n",
       "      <td>2.000000</td>\n",
       "      <td>1.000000</td>\n",
       "      <td>0.000000</td>\n",
       "      <td>34.000000</td>\n",
       "      <td>1.000000</td>\n",
       "      <td>1.000000</td>\n",
       "      <td>0.000000</td>\n",
       "      <td>5.000000</td>\n",
       "      <td>...</td>\n",
       "      <td>510.000000</td>\n",
       "      <td>4.200000</td>\n",
       "      <td>2.200000</td>\n",
       "      <td>38.000000</td>\n",
       "      <td>1.000000</td>\n",
       "      <td>1.000000</td>\n",
       "      <td>1.000000</td>\n",
       "      <td>1.000000</td>\n",
       "      <td>68.000000</td>\n",
       "      <td>1.000000</td>\n",
       "    </tr>\n",
       "    <tr>\n",
       "      <th>75%</th>\n",
       "      <td>63.000000</td>\n",
       "      <td>1.000000</td>\n",
       "      <td>5.000000</td>\n",
       "      <td>1.000000</td>\n",
       "      <td>0.000000</td>\n",
       "      <td>43.000000</td>\n",
       "      <td>1.000000</td>\n",
       "      <td>1.000000</td>\n",
       "      <td>1.000000</td>\n",
       "      <td>7.000000</td>\n",
       "      <td>...</td>\n",
       "      <td>545.000000</td>\n",
       "      <td>4.925000</td>\n",
       "      <td>2.725000</td>\n",
       "      <td>75.000000</td>\n",
       "      <td>1.000000</td>\n",
       "      <td>1.000000</td>\n",
       "      <td>1.000000</td>\n",
       "      <td>1.000000</td>\n",
       "      <td>79.000000</td>\n",
       "      <td>2.000000</td>\n",
       "    </tr>\n",
       "    <tr>\n",
       "      <th>max</th>\n",
       "      <td>85.000000</td>\n",
       "      <td>1.000000</td>\n",
       "      <td>8.000000</td>\n",
       "      <td>1.000000</td>\n",
       "      <td>2.000000</td>\n",
       "      <td>70.000000</td>\n",
       "      <td>1.000000</td>\n",
       "      <td>2.000000</td>\n",
       "      <td>1.000000</td>\n",
       "      <td>52.000000</td>\n",
       "      <td>...</td>\n",
       "      <td>7541.000000</td>\n",
       "      <td>6.700000</td>\n",
       "      <td>4.400000</td>\n",
       "      <td>151.000000</td>\n",
       "      <td>1.000000</td>\n",
       "      <td>1.000000</td>\n",
       "      <td>1.000000</td>\n",
       "      <td>1.000000</td>\n",
       "      <td>103.000000</td>\n",
       "      <td>2.000000</td>\n",
       "    </tr>\n",
       "  </tbody>\n",
       "</table>\n",
       "<p>8 rows × 35 columns</p>\n",
       "</div>"
      ],
      "text/plain": [
       "              age      gender        city  asbestos exposure  type of MM  \\\n",
       "count  324.000000  324.000000  324.000000         324.000000  324.000000   \n",
       "mean    54.743827    0.586420    2.530864           0.864198    0.052469   \n",
       "std     11.002637    0.493237    2.429623           0.343109    0.261622   \n",
       "min     19.000000    0.000000    0.000000           0.000000    0.000000   \n",
       "25%     47.000000    0.000000    0.000000           1.000000    0.000000   \n",
       "50%     55.000000    1.000000    2.000000           1.000000    0.000000   \n",
       "75%     63.000000    1.000000    5.000000           1.000000    0.000000   \n",
       "max     85.000000    1.000000    8.000000           1.000000    2.000000   \n",
       "\n",
       "       duration of asbestos exposure  diagnosis method   keep side  \\\n",
       "count                     324.000000        324.000000  324.000000   \n",
       "mean                       30.188272          0.703704    0.759259   \n",
       "std                        16.419945          0.457330    0.565308   \n",
       "min                         0.000000          0.000000    0.000000   \n",
       "25%                        19.750000          0.000000    0.000000   \n",
       "50%                        34.000000          1.000000    1.000000   \n",
       "75%                        43.000000          1.000000    1.000000   \n",
       "max                        70.000000          1.000000    2.000000   \n",
       "\n",
       "         cytology  duration of symptoms  ...  pleural lactic dehydrogenise  \\\n",
       "count  324.000000            324.000000  ...                    324.000000   \n",
       "mean     0.280864              5.442901  ...                    518.472222   \n",
       "std      0.450116              4.717792  ...                    536.279128   \n",
       "min      0.000000              0.500000  ...                    110.000000   \n",
       "25%      0.000000              2.875000  ...                    322.000000   \n",
       "50%      0.000000              5.000000  ...                    510.000000   \n",
       "75%      1.000000              7.000000  ...                    545.000000   \n",
       "max      1.000000             52.000000  ...                   7541.000000   \n",
       "\n",
       "       pleural protein  pleural albumin  pleural glucose  dead or not  \\\n",
       "count       324.000000       324.000000       324.000000   324.000000   \n",
       "mean          3.937562         2.076883        48.444444     0.944444   \n",
       "std           1.575008         0.915411        27.232516     0.229416   \n",
       "min           0.000000         0.000000         2.000000     0.000000   \n",
       "25%           3.400000         1.607500        29.000000     1.000000   \n",
       "50%           4.200000         2.200000        38.000000     1.000000   \n",
       "75%           4.925000         2.725000        75.000000     1.000000   \n",
       "max           6.700000         4.400000       151.000000     1.000000   \n",
       "\n",
       "       pleural effusion  pleural thickness on tomography  \\\n",
       "count        324.000000                       324.000000   \n",
       "mean           0.870370                         0.595679   \n",
       "std            0.336415                         0.491519   \n",
       "min            0.000000                         0.000000   \n",
       "25%            1.000000                         0.000000   \n",
       "50%            1.000000                         1.000000   \n",
       "75%            1.000000                         1.000000   \n",
       "max            1.000000                         1.000000   \n",
       "\n",
       "       pleural level of acidity (pH)  C-reactive protein (CRP)  \\\n",
       "count                     324.000000                324.000000   \n",
       "mean                        0.521605                 64.188272   \n",
       "std                         0.500306                 22.661837   \n",
       "min                         0.000000                 11.000000   \n",
       "25%                         0.000000                 42.000000   \n",
       "50%                         1.000000                 68.000000   \n",
       "75%                         1.000000                 79.000000   \n",
       "max                         1.000000                103.000000   \n",
       "\n",
       "       class of diagnosis  \n",
       "count          324.000000  \n",
       "mean             1.296296  \n",
       "std              0.457330  \n",
       "min              1.000000  \n",
       "25%              1.000000  \n",
       "50%              1.000000  \n",
       "75%              2.000000  \n",
       "max              2.000000  \n",
       "\n",
       "[8 rows x 35 columns]"
      ]
     },
     "execution_count": 3,
     "metadata": {},
     "output_type": "execute_result"
    }
   ],
   "source": [
    "df.describe()"
   ]
  },
  {
   "cell_type": "code",
   "execution_count": 4,
   "metadata": {
    "id": "r5yyovZ8Pgw6"
   },
   "outputs": [],
   "source": [
    "from sklearn import preprocessing\n",
    "\n",
    "x = df.values #returns a numpy array\n",
    "min_max_scaler = preprocessing.MinMaxScaler()\n",
    "x_scaled = min_max_scaler.fit_transform(x)\n",
    "df = pd.DataFrame(x_scaled,columns=df.columns)"
   ]
  },
  {
   "cell_type": "code",
   "execution_count": 5,
   "metadata": {
    "colab": {
     "base_uri": "https://localhost:8080/",
     "height": 445
    },
    "executionInfo": {
     "elapsed": 1335,
     "status": "ok",
     "timestamp": 1691572311733,
     "user": {
      "displayName": "shantanu pathak",
      "userId": "10566305450164209704"
     },
     "user_tz": -330
    },
    "id": "Cthho2p6QV9R",
    "outputId": "058a2da4-fb8d-4967-e4fe-380338e7d555"
   },
   "outputs": [
    {
     "data": {
      "text/html": [
       "<div>\n",
       "<style scoped>\n",
       "    .dataframe tbody tr th:only-of-type {\n",
       "        vertical-align: middle;\n",
       "    }\n",
       "\n",
       "    .dataframe tbody tr th {\n",
       "        vertical-align: top;\n",
       "    }\n",
       "\n",
       "    .dataframe thead th {\n",
       "        text-align: right;\n",
       "    }\n",
       "</style>\n",
       "<table border=\"1\" class=\"dataframe\">\n",
       "  <thead>\n",
       "    <tr style=\"text-align: right;\">\n",
       "      <th></th>\n",
       "      <th>age</th>\n",
       "      <th>gender</th>\n",
       "      <th>city</th>\n",
       "      <th>asbestos exposure</th>\n",
       "      <th>type of MM</th>\n",
       "      <th>duration of asbestos exposure</th>\n",
       "      <th>diagnosis method</th>\n",
       "      <th>keep side</th>\n",
       "      <th>cytology</th>\n",
       "      <th>duration of symptoms</th>\n",
       "      <th>...</th>\n",
       "      <th>pleural lactic dehydrogenise</th>\n",
       "      <th>pleural protein</th>\n",
       "      <th>pleural albumin</th>\n",
       "      <th>pleural glucose</th>\n",
       "      <th>dead or not</th>\n",
       "      <th>pleural effusion</th>\n",
       "      <th>pleural thickness on tomography</th>\n",
       "      <th>pleural level of acidity (pH)</th>\n",
       "      <th>C-reactive protein (CRP)</th>\n",
       "      <th>class of diagnosis</th>\n",
       "    </tr>\n",
       "  </thead>\n",
       "  <tbody>\n",
       "    <tr>\n",
       "      <th>count</th>\n",
       "      <td>324.000000</td>\n",
       "      <td>324.000000</td>\n",
       "      <td>324.000000</td>\n",
       "      <td>324.000000</td>\n",
       "      <td>324.000000</td>\n",
       "      <td>324.000000</td>\n",
       "      <td>324.000000</td>\n",
       "      <td>324.000000</td>\n",
       "      <td>324.000000</td>\n",
       "      <td>324.000000</td>\n",
       "      <td>...</td>\n",
       "      <td>324.000000</td>\n",
       "      <td>324.000000</td>\n",
       "      <td>324.000000</td>\n",
       "      <td>324.000000</td>\n",
       "      <td>324.000000</td>\n",
       "      <td>324.000000</td>\n",
       "      <td>324.000000</td>\n",
       "      <td>324.000000</td>\n",
       "      <td>324.000000</td>\n",
       "      <td>324.000000</td>\n",
       "    </tr>\n",
       "    <tr>\n",
       "      <th>mean</th>\n",
       "      <td>0.541573</td>\n",
       "      <td>0.586420</td>\n",
       "      <td>0.316358</td>\n",
       "      <td>0.864198</td>\n",
       "      <td>0.026235</td>\n",
       "      <td>0.431261</td>\n",
       "      <td>0.703704</td>\n",
       "      <td>0.379630</td>\n",
       "      <td>0.280864</td>\n",
       "      <td>0.095979</td>\n",
       "      <td>...</td>\n",
       "      <td>0.054969</td>\n",
       "      <td>0.587696</td>\n",
       "      <td>0.472019</td>\n",
       "      <td>0.311708</td>\n",
       "      <td>0.944444</td>\n",
       "      <td>0.870370</td>\n",
       "      <td>0.595679</td>\n",
       "      <td>0.521605</td>\n",
       "      <td>0.578133</td>\n",
       "      <td>0.296296</td>\n",
       "    </tr>\n",
       "    <tr>\n",
       "      <th>std</th>\n",
       "      <td>0.166707</td>\n",
       "      <td>0.493237</td>\n",
       "      <td>0.303703</td>\n",
       "      <td>0.343109</td>\n",
       "      <td>0.130811</td>\n",
       "      <td>0.234571</td>\n",
       "      <td>0.457330</td>\n",
       "      <td>0.282654</td>\n",
       "      <td>0.450116</td>\n",
       "      <td>0.091608</td>\n",
       "      <td>...</td>\n",
       "      <td>0.072168</td>\n",
       "      <td>0.235076</td>\n",
       "      <td>0.208048</td>\n",
       "      <td>0.182769</td>\n",
       "      <td>0.229416</td>\n",
       "      <td>0.336415</td>\n",
       "      <td>0.491519</td>\n",
       "      <td>0.500306</td>\n",
       "      <td>0.246324</td>\n",
       "      <td>0.457330</td>\n",
       "    </tr>\n",
       "    <tr>\n",
       "      <th>min</th>\n",
       "      <td>0.000000</td>\n",
       "      <td>0.000000</td>\n",
       "      <td>0.000000</td>\n",
       "      <td>0.000000</td>\n",
       "      <td>0.000000</td>\n",
       "      <td>0.000000</td>\n",
       "      <td>0.000000</td>\n",
       "      <td>0.000000</td>\n",
       "      <td>0.000000</td>\n",
       "      <td>0.000000</td>\n",
       "      <td>...</td>\n",
       "      <td>0.000000</td>\n",
       "      <td>0.000000</td>\n",
       "      <td>0.000000</td>\n",
       "      <td>0.000000</td>\n",
       "      <td>0.000000</td>\n",
       "      <td>0.000000</td>\n",
       "      <td>0.000000</td>\n",
       "      <td>0.000000</td>\n",
       "      <td>0.000000</td>\n",
       "      <td>0.000000</td>\n",
       "    </tr>\n",
       "    <tr>\n",
       "      <th>25%</th>\n",
       "      <td>0.424242</td>\n",
       "      <td>0.000000</td>\n",
       "      <td>0.000000</td>\n",
       "      <td>1.000000</td>\n",
       "      <td>0.000000</td>\n",
       "      <td>0.282143</td>\n",
       "      <td>0.000000</td>\n",
       "      <td>0.000000</td>\n",
       "      <td>0.000000</td>\n",
       "      <td>0.046117</td>\n",
       "      <td>...</td>\n",
       "      <td>0.028529</td>\n",
       "      <td>0.507463</td>\n",
       "      <td>0.365341</td>\n",
       "      <td>0.181208</td>\n",
       "      <td>1.000000</td>\n",
       "      <td>1.000000</td>\n",
       "      <td>0.000000</td>\n",
       "      <td>0.000000</td>\n",
       "      <td>0.336957</td>\n",
       "      <td>0.000000</td>\n",
       "    </tr>\n",
       "    <tr>\n",
       "      <th>50%</th>\n",
       "      <td>0.545455</td>\n",
       "      <td>1.000000</td>\n",
       "      <td>0.250000</td>\n",
       "      <td>1.000000</td>\n",
       "      <td>0.000000</td>\n",
       "      <td>0.485714</td>\n",
       "      <td>1.000000</td>\n",
       "      <td>0.500000</td>\n",
       "      <td>0.000000</td>\n",
       "      <td>0.087379</td>\n",
       "      <td>...</td>\n",
       "      <td>0.053829</td>\n",
       "      <td>0.626866</td>\n",
       "      <td>0.500000</td>\n",
       "      <td>0.241611</td>\n",
       "      <td>1.000000</td>\n",
       "      <td>1.000000</td>\n",
       "      <td>1.000000</td>\n",
       "      <td>1.000000</td>\n",
       "      <td>0.619565</td>\n",
       "      <td>0.000000</td>\n",
       "    </tr>\n",
       "    <tr>\n",
       "      <th>75%</th>\n",
       "      <td>0.666667</td>\n",
       "      <td>1.000000</td>\n",
       "      <td>0.625000</td>\n",
       "      <td>1.000000</td>\n",
       "      <td>0.000000</td>\n",
       "      <td>0.614286</td>\n",
       "      <td>1.000000</td>\n",
       "      <td>0.500000</td>\n",
       "      <td>1.000000</td>\n",
       "      <td>0.126214</td>\n",
       "      <td>...</td>\n",
       "      <td>0.058539</td>\n",
       "      <td>0.735075</td>\n",
       "      <td>0.619318</td>\n",
       "      <td>0.489933</td>\n",
       "      <td>1.000000</td>\n",
       "      <td>1.000000</td>\n",
       "      <td>1.000000</td>\n",
       "      <td>1.000000</td>\n",
       "      <td>0.739130</td>\n",
       "      <td>1.000000</td>\n",
       "    </tr>\n",
       "    <tr>\n",
       "      <th>max</th>\n",
       "      <td>1.000000</td>\n",
       "      <td>1.000000</td>\n",
       "      <td>1.000000</td>\n",
       "      <td>1.000000</td>\n",
       "      <td>1.000000</td>\n",
       "      <td>1.000000</td>\n",
       "      <td>1.000000</td>\n",
       "      <td>1.000000</td>\n",
       "      <td>1.000000</td>\n",
       "      <td>1.000000</td>\n",
       "      <td>...</td>\n",
       "      <td>1.000000</td>\n",
       "      <td>1.000000</td>\n",
       "      <td>1.000000</td>\n",
       "      <td>1.000000</td>\n",
       "      <td>1.000000</td>\n",
       "      <td>1.000000</td>\n",
       "      <td>1.000000</td>\n",
       "      <td>1.000000</td>\n",
       "      <td>1.000000</td>\n",
       "      <td>1.000000</td>\n",
       "    </tr>\n",
       "  </tbody>\n",
       "</table>\n",
       "<p>8 rows × 35 columns</p>\n",
       "</div>"
      ],
      "text/plain": [
       "              age      gender        city  asbestos exposure  type of MM  \\\n",
       "count  324.000000  324.000000  324.000000         324.000000  324.000000   \n",
       "mean     0.541573    0.586420    0.316358           0.864198    0.026235   \n",
       "std      0.166707    0.493237    0.303703           0.343109    0.130811   \n",
       "min      0.000000    0.000000    0.000000           0.000000    0.000000   \n",
       "25%      0.424242    0.000000    0.000000           1.000000    0.000000   \n",
       "50%      0.545455    1.000000    0.250000           1.000000    0.000000   \n",
       "75%      0.666667    1.000000    0.625000           1.000000    0.000000   \n",
       "max      1.000000    1.000000    1.000000           1.000000    1.000000   \n",
       "\n",
       "       duration of asbestos exposure  diagnosis method   keep side  \\\n",
       "count                     324.000000        324.000000  324.000000   \n",
       "mean                        0.431261          0.703704    0.379630   \n",
       "std                         0.234571          0.457330    0.282654   \n",
       "min                         0.000000          0.000000    0.000000   \n",
       "25%                         0.282143          0.000000    0.000000   \n",
       "50%                         0.485714          1.000000    0.500000   \n",
       "75%                         0.614286          1.000000    0.500000   \n",
       "max                         1.000000          1.000000    1.000000   \n",
       "\n",
       "         cytology  duration of symptoms  ...  pleural lactic dehydrogenise  \\\n",
       "count  324.000000            324.000000  ...                    324.000000   \n",
       "mean     0.280864              0.095979  ...                      0.054969   \n",
       "std      0.450116              0.091608  ...                      0.072168   \n",
       "min      0.000000              0.000000  ...                      0.000000   \n",
       "25%      0.000000              0.046117  ...                      0.028529   \n",
       "50%      0.000000              0.087379  ...                      0.053829   \n",
       "75%      1.000000              0.126214  ...                      0.058539   \n",
       "max      1.000000              1.000000  ...                      1.000000   \n",
       "\n",
       "       pleural protein  pleural albumin  pleural glucose  dead or not  \\\n",
       "count       324.000000       324.000000       324.000000   324.000000   \n",
       "mean          0.587696         0.472019         0.311708     0.944444   \n",
       "std           0.235076         0.208048         0.182769     0.229416   \n",
       "min           0.000000         0.000000         0.000000     0.000000   \n",
       "25%           0.507463         0.365341         0.181208     1.000000   \n",
       "50%           0.626866         0.500000         0.241611     1.000000   \n",
       "75%           0.735075         0.619318         0.489933     1.000000   \n",
       "max           1.000000         1.000000         1.000000     1.000000   \n",
       "\n",
       "       pleural effusion  pleural thickness on tomography  \\\n",
       "count        324.000000                       324.000000   \n",
       "mean           0.870370                         0.595679   \n",
       "std            0.336415                         0.491519   \n",
       "min            0.000000                         0.000000   \n",
       "25%            1.000000                         0.000000   \n",
       "50%            1.000000                         1.000000   \n",
       "75%            1.000000                         1.000000   \n",
       "max            1.000000                         1.000000   \n",
       "\n",
       "       pleural level of acidity (pH)  C-reactive protein (CRP)  \\\n",
       "count                     324.000000                324.000000   \n",
       "mean                        0.521605                  0.578133   \n",
       "std                         0.500306                  0.246324   \n",
       "min                         0.000000                  0.000000   \n",
       "25%                         0.000000                  0.336957   \n",
       "50%                         1.000000                  0.619565   \n",
       "75%                         1.000000                  0.739130   \n",
       "max                         1.000000                  1.000000   \n",
       "\n",
       "       class of diagnosis  \n",
       "count          324.000000  \n",
       "mean             0.296296  \n",
       "std              0.457330  \n",
       "min              0.000000  \n",
       "25%              0.000000  \n",
       "50%              0.000000  \n",
       "75%              1.000000  \n",
       "max              1.000000  \n",
       "\n",
       "[8 rows x 35 columns]"
      ]
     },
     "execution_count": 5,
     "metadata": {},
     "output_type": "execute_result"
    }
   ],
   "source": [
    "df.describe()"
   ]
  },
  {
   "cell_type": "code",
   "execution_count": 6,
   "metadata": {
    "colab": {
     "base_uri": "https://localhost:8080/"
    },
    "executionInfo": {
     "elapsed": 365,
     "status": "ok",
     "timestamp": 1691572380858,
     "user": {
      "displayName": "shantanu pathak",
      "userId": "10566305450164209704"
     },
     "user_tz": -330
    },
    "id": "YVq2asBJQ-bg",
    "outputId": "496f1792-1c3f-4bb9-b16a-6375b33d054f"
   },
   "outputs": [
    {
     "data": {
      "text/plain": [
       "age                                 float64\n",
       "gender                              float64\n",
       "city                                float64\n",
       "asbestos exposure                   float64\n",
       "type of MM                          float64\n",
       "duration of asbestos exposure       float64\n",
       "diagnosis method                    float64\n",
       "keep side                           float64\n",
       "cytology                            float64\n",
       "duration of symptoms                float64\n",
       "dyspnoea                            float64\n",
       "ache on chest                       float64\n",
       "weakness                            float64\n",
       "habit of cigarette                  float64\n",
       "performance status                  float64\n",
       "white blood                         float64\n",
       "cell count (WBC)                    float64\n",
       "hemoglobin (HGB)                    float64\n",
       "platelet count (PLT)                float64\n",
       "sedimentation                       float64\n",
       "blood lactic dehydrogenise (LDH)    float64\n",
       "alkaline phosphatise (ALP)          float64\n",
       "total protein                       float64\n",
       "albumin                             float64\n",
       "glucose                             float64\n",
       "pleural lactic dehydrogenise        float64\n",
       "pleural protein                     float64\n",
       "pleural albumin                     float64\n",
       "pleural glucose                     float64\n",
       "dead or not                         float64\n",
       "pleural effusion                    float64\n",
       "pleural thickness on tomography     float64\n",
       "pleural level of acidity (pH)       float64\n",
       "C-reactive protein (CRP)            float64\n",
       "class of diagnosis                  float64\n",
       "dtype: object"
      ]
     },
     "execution_count": 6,
     "metadata": {},
     "output_type": "execute_result"
    }
   ],
   "source": [
    "df.dtypes"
   ]
  },
  {
   "cell_type": "code",
   "execution_count": 7,
   "metadata": {
    "id": "npPMpQK69Yob"
   },
   "outputs": [],
   "source": [
    "df.drop(['dead or not'],axis=1,inplace=True)"
   ]
  },
  {
   "cell_type": "markdown",
   "metadata": {
    "id": "E8VMevTqjXHL"
   },
   "source": [
    "# Handle Data Imbalance"
   ]
  },
  {
   "cell_type": "code",
   "execution_count": 8,
   "metadata": {
    "colab": {
     "base_uri": "https://localhost:8080/"
    },
    "executionInfo": {
     "elapsed": 364,
     "status": "ok",
     "timestamp": 1691572393170,
     "user": {
      "displayName": "shantanu pathak",
      "userId": "10566305450164209704"
     },
     "user_tz": -330
    },
    "id": "ZLaMhZkX8C7M",
    "outputId": "b0a15df2-2f4d-43d4-a823-245aeef066df"
   },
   "outputs": [
    {
     "data": {
      "text/plain": [
       "0.0    0.703704\n",
       "1.0    0.296296\n",
       "Name: class of diagnosis, dtype: float64"
      ]
     },
     "execution_count": 8,
     "metadata": {},
     "output_type": "execute_result"
    }
   ],
   "source": [
    "df['class of diagnosis'].value_counts(normalize=True)"
   ]
  },
  {
   "cell_type": "markdown",
   "metadata": {
    "id": "eLEKYXBQjcPn"
   },
   "source": [
    "## Here Subsampling / Undersampling method is used for balancing\n",
    "\n",
    "We took few samples from the majority\n",
    "And all samples from the minority class"
   ]
  },
  {
   "cell_type": "code",
   "execution_count": 9,
   "metadata": {
    "id": "uveFmeQO_pAM"
   },
   "outputs": [],
   "source": [
    "df_c1 = df.loc[df['class of diagnosis']==0,:]\n",
    "df_c2 = df.loc[df['class of diagnosis']==1,:]"
   ]
  },
  {
   "cell_type": "markdown",
   "metadata": {
    "id": "zf9R7jw0jumX"
   },
   "source": [
    "#### Sample Majority class with number of records in minority class\n",
    "\n",
    "In sampling we randomly select given number of records"
   ]
  },
  {
   "cell_type": "code",
   "execution_count": 10,
   "metadata": {
    "id": "hdt_UZxG_5Jy"
   },
   "outputs": [],
   "source": [
    "df_c1 = df_c1.sample(df_c2.shape[0],random_state=7)"
   ]
  },
  {
   "cell_type": "code",
   "execution_count": 11,
   "metadata": {
    "colab": {
     "base_uri": "https://localhost:8080/"
    },
    "executionInfo": {
     "elapsed": 370,
     "status": "ok",
     "timestamp": 1691572477051,
     "user": {
      "displayName": "shantanu pathak",
      "userId": "10566305450164209704"
     },
     "user_tz": -330
    },
    "id": "TuKzz4IjAFV7",
    "outputId": "0939e46f-d80c-4f20-fc8e-b7f1194cac73"
   },
   "outputs": [
    {
     "data": {
      "text/plain": [
       "((96, 34), (96, 34))"
      ]
     },
     "execution_count": 11,
     "metadata": {},
     "output_type": "execute_result"
    }
   ],
   "source": [
    "df_c1.shape , df_c2.shape"
   ]
  },
  {
   "cell_type": "code",
   "execution_count": 12,
   "metadata": {
    "id": "KuV-KCUjAm8t"
   },
   "outputs": [],
   "source": [
    "df_new = pd.concat([df_c1,df_c2])"
   ]
  },
  {
   "cell_type": "code",
   "execution_count": 13,
   "metadata": {
    "colab": {
     "base_uri": "https://localhost:8080/"
    },
    "executionInfo": {
     "elapsed": 5,
     "status": "ok",
     "timestamp": 1691572490754,
     "user": {
      "displayName": "shantanu pathak",
      "userId": "10566305450164209704"
     },
     "user_tz": -330
    },
    "id": "VHJiG6JYAszQ",
    "outputId": "7a348a30-3d88-4cd8-93c2-ccf668e0c82c"
   },
   "outputs": [
    {
     "data": {
      "text/plain": [
       "(192, 34)"
      ]
     },
     "execution_count": 13,
     "metadata": {},
     "output_type": "execute_result"
    }
   ],
   "source": [
    "df_new.shape"
   ]
  },
  {
   "cell_type": "code",
   "execution_count": 14,
   "metadata": {
    "colab": {
     "base_uri": "https://localhost:8080/"
    },
    "executionInfo": {
     "elapsed": 389,
     "status": "ok",
     "timestamp": 1691572495579,
     "user": {
      "displayName": "shantanu pathak",
      "userId": "10566305450164209704"
     },
     "user_tz": -330
    },
    "id": "QPP22MO-kVbj",
    "outputId": "bdcf6ac3-628f-464b-fb9f-85a2f94bd1f3"
   },
   "outputs": [
    {
     "data": {
      "text/plain": [
       "0.0    96\n",
       "1.0    96\n",
       "Name: class of diagnosis, dtype: int64"
      ]
     },
     "execution_count": 14,
     "metadata": {},
     "output_type": "execute_result"
    }
   ],
   "source": [
    "df_new['class of diagnosis'].value_counts()"
   ]
  },
  {
   "cell_type": "markdown",
   "metadata": {
    "id": "01wF6Rpcmll9"
   },
   "source": [
    "# Separate X & y"
   ]
  },
  {
   "cell_type": "code",
   "execution_count": 15,
   "metadata": {
    "id": "c4hcVC5JPvWo"
   },
   "outputs": [],
   "source": [
    "# split into input and output columns\n",
    "X, y = df_new.values[:, :-1], df_new.values[:, -1]"
   ]
  },
  {
   "cell_type": "code",
   "execution_count": 16,
   "metadata": {
    "colab": {
     "base_uri": "https://localhost:8080/"
    },
    "executionInfo": {
     "elapsed": 5,
     "status": "ok",
     "timestamp": 1691572517747,
     "user": {
      "displayName": "shantanu pathak",
      "userId": "10566305450164209704"
     },
     "user_tz": -330
    },
    "id": "BpUTracXwv0n",
    "outputId": "aadaa3d3-72da-4e2a-f0ef-80009b9de491"
   },
   "outputs": [
    {
     "data": {
      "text/plain": [
       "array([0., 0., 0., 0., 0., 0., 0., 0., 0., 0.])"
      ]
     },
     "execution_count": 16,
     "metadata": {},
     "output_type": "execute_result"
    }
   ],
   "source": [
    "y[:10]"
   ]
  },
  {
   "cell_type": "markdown",
   "metadata": {
    "id": "F9bTIDNTmoZG"
   },
   "source": [
    "# Train test Split"
   ]
  },
  {
   "cell_type": "code",
   "execution_count": 17,
   "metadata": {
    "colab": {
     "base_uri": "https://localhost:8080/"
    },
    "executionInfo": {
     "elapsed": 629,
     "status": "ok",
     "timestamp": 1691572535657,
     "user": {
      "displayName": "shantanu pathak",
      "userId": "10566305450164209704"
     },
     "user_tz": -330
    },
    "id": "oyxrYRIOw29v",
    "outputId": "9599bfb2-57b8-42b1-8c3f-9f6bf9c6826b"
   },
   "outputs": [
    {
     "name": "stdout",
     "output_type": "stream",
     "text": [
      "(134, 33) (58, 33) (134,) (58,)\n"
     ]
    }
   ],
   "source": [
    "# split into train and test datasets\n",
    "X_train, X_test, y_train, y_test = train_test_split(X, y, test_size=0.3,random_state=7,stratify=y)\n",
    "print(X_train.shape, X_test.shape, y_train.shape, y_test.shape)"
   ]
  },
  {
   "cell_type": "markdown",
   "metadata": {
    "id": "l6_cvIseY65a"
   },
   "source": [
    "## Configure the input layer"
   ]
  },
  {
   "cell_type": "code",
   "execution_count": 18,
   "metadata": {
    "id": "zrD5KvK7w6j-"
   },
   "outputs": [],
   "source": [
    "# determine the number of input features\n",
    "n_features = X_train.shape[1]"
   ]
  },
  {
   "cell_type": "code",
   "execution_count": 19,
   "metadata": {
    "colab": {
     "base_uri": "https://localhost:8080/"
    },
    "executionInfo": {
     "elapsed": 3,
     "status": "ok",
     "timestamp": 1691572948417,
     "user": {
      "displayName": "shantanu pathak",
      "userId": "10566305450164209704"
     },
     "user_tz": -330
    },
    "id": "eNe0fCqG0lnA",
    "outputId": "3b2e6371-2ed4-4e74-c78a-b60af55fe607"
   },
   "outputs": [
    {
     "data": {
      "text/plain": [
       "33"
      ]
     },
     "execution_count": 19,
     "metadata": {},
     "output_type": "execute_result"
    }
   ],
   "source": [
    "n_features"
   ]
  },
  {
   "cell_type": "code",
   "execution_count": 20,
   "metadata": {
    "colab": {
     "base_uri": "https://localhost:8080/"
    },
    "executionInfo": {
     "elapsed": 23,
     "status": "ok",
     "timestamp": 1691572949644,
     "user": {
      "displayName": "shantanu pathak",
      "userId": "10566305450164209704"
     },
     "user_tz": -330
    },
    "id": "1LCDth9OozKD",
    "outputId": "8593c1dd-852a-4bf9-9904-581a31615cb7"
   },
   "outputs": [
    {
     "data": {
      "text/plain": [
       "170"
      ]
     },
     "execution_count": 20,
     "metadata": {},
     "output_type": "execute_result"
    }
   ],
   "source": [
    "n_features * 5 + 5 #(bias values)"
   ]
  },
  {
   "cell_type": "markdown",
   "metadata": {
    "id": "_rvmZMqVh2dC"
   },
   "source": [
    "# Size of output layer / no of neurons in output layer\n",
    "\n",
    "classification ::\n",
    "no of classes if we want OHE\n",
    "\n",
    "or 1 neuron if we dont want OHE\n",
    "\n",
    "regression ::\n",
    "\n",
    "1 neuron if we want one output\n",
    "\n",
    "multiple outputs then no of neurons is same as no of outputs"
   ]
  },
  {
   "cell_type": "markdown",
   "metadata": {
    "id": "mX2VadnVoz3E"
   },
   "source": [
    "# Output layer activation:\n",
    "\n",
    "depends on the output ::\n",
    "\n",
    "if 0 or 1 :: use sigmoid\n",
    "\n",
    "if you want one hot encoding :: softmax\n",
    "\n",
    "if you want number use linear"
   ]
  },
  {
   "cell_type": "markdown",
   "metadata": {
    "id": "Y5bEPD8J9jxZ"
   },
   "source": [
    "#### How Many layers to choose ?\n",
    "\n",
    "Each layer is a feature selection step\n",
    "\n",
    "If you want more processing of input data for better feature selection then add more layers."
   ]
  },
  {
   "cell_type": "code",
   "execution_count": 21,
   "metadata": {
    "id": "nEknQleVxBRG"
   },
   "outputs": [],
   "source": [
    "# define model\n",
    "model1 = Sequential()\n",
    "model1.add(Dense(5, activation='relu', input_shape=(n_features,))) \n",
    "#model1.add(Dense(100, activation='relu',input_shape=(n_features,)))\n",
    "#model1.add(Dense(800, activation='relu'))\n",
    "# model1.add(Dense(8, activation='relu'))\n",
    "# model1.add(Dropout(0.2))\n",
    "model1.add(Dense(1, activation='sigmoid'))#linear\n",
    "# model1.add(Dense(2, activation='softmax'))"
   ]
  },
  {
   "cell_type": "markdown",
   "metadata": {
    "id": "odBf9M5q9SP1"
   },
   "source": [
    "## Task ::\n",
    "\n",
    "1. change number of neurons in Hidden layer 1 :: atleast 3 diferent values :: check test accuracy\n",
    "\n",
    "2. Add 1 layer (any no of neurons): check test accuracy\n",
    "\n",
    "3. add two layers (any no of neurons): check test accuracy"
   ]
  },
  {
   "cell_type": "code",
   "execution_count": 22,
   "metadata": {
    "colab": {
     "base_uri": "https://localhost:8080/"
    },
    "executionInfo": {
     "elapsed": 390,
     "status": "ok",
     "timestamp": 1691572959436,
     "user": {
      "displayName": "shantanu pathak",
      "userId": "10566305450164209704"
     },
     "user_tz": -330
    },
    "id": "eHVwjAK7RUyc",
    "outputId": "785d996d-95be-4214-ac7e-c6d15ace2b40"
   },
   "outputs": [
    {
     "name": "stdout",
     "output_type": "stream",
     "text": [
      "Model: \"sequential\"\n",
      "_________________________________________________________________\n",
      " Layer (type)                Output Shape              Param #   \n",
      "=================================================================\n",
      " dense (Dense)               (None, 5)                 170       \n",
      "                                                                 \n",
      " dense_1 (Dense)             (None, 1)                 6         \n",
      "                                                                 \n",
      "=================================================================\n",
      "Total params: 176\n",
      "Trainable params: 176\n",
      "Non-trainable params: 0\n",
      "_________________________________________________________________\n"
     ]
    }
   ],
   "source": [
    "model1.summary() # None in output is batch size"
   ]
  },
  {
   "cell_type": "markdown",
   "metadata": {
    "id": "c32LXoxbzZrg"
   },
   "source": [
    "### Optimizers\n",
    "Optimize the error or loss\n",
    "\n",
    "SGD stochastic Gardient Descent\n",
    "\n",
    "** Momentum in SGD\n",
    "\n",
    "Adam  Adaptive Moment Optimization/Estimation :: Best Currently\n",
    "\n",
    "RMSProp Root Mean Square Propogation"
   ]
  },
  {
   "cell_type": "markdown",
   "metadata": {
    "id": "4R1W8k6S2oir"
   },
   "source": [
    "#### Loss\n",
    "\n",
    "binary_crossentropy : when two classes in output\n",
    "\n",
    "Categorical Cross Entropy: for multi class classification problem\n",
    "\n",
    "Sparse Categorical Cross Entropy :: when multi class classification without one hot encoding\n",
    "\n",
    "mse Mean Squared Error : for regression problem"
   ]
  },
  {
   "cell_type": "code",
   "execution_count": 23,
   "metadata": {
    "id": "M_OesqogxEI_"
   },
   "outputs": [],
   "source": [
    "# compile the model\n",
    "model1.compile(optimizer='adam', loss='binary_crossentropy', metrics=['accuracy'])#mse / mae"
   ]
  },
  {
   "cell_type": "code",
   "execution_count": 24,
   "metadata": {
    "colab": {
     "base_uri": "https://localhost:8080/"
    },
    "executionInfo": {
     "elapsed": 7843,
     "status": "ok",
     "timestamp": 1691573574479,
     "user": {
      "displayName": "shantanu pathak",
      "userId": "10566305450164209704"
     },
     "user_tz": -330
    },
    "id": "DZwtbeuLxImG",
    "outputId": "5967e03c-641b-4eb4-e52d-81490eb21cec"
   },
   "outputs": [
    {
     "name": "stdout",
     "output_type": "stream",
     "text": [
      "Epoch 1/100\n",
      "3/3 - 1s - loss: 0.7768 - accuracy: 0.5484 - val_loss: 0.9494 - val_accuracy: 0.3171 - 1s/epoch - 482ms/step\n",
      "Epoch 2/100\n",
      "3/3 - 0s - loss: 0.7673 - accuracy: 0.5484 - val_loss: 0.9274 - val_accuracy: 0.3171 - 75ms/epoch - 25ms/step\n",
      "Epoch 3/100\n",
      "3/3 - 0s - loss: 0.7591 - accuracy: 0.5269 - val_loss: 0.9069 - val_accuracy: 0.2927 - 75ms/epoch - 25ms/step\n",
      "Epoch 4/100\n",
      "3/3 - 0s - loss: 0.7520 - accuracy: 0.5054 - val_loss: 0.8881 - val_accuracy: 0.2927 - 73ms/epoch - 24ms/step\n",
      "Epoch 5/100\n",
      "3/3 - 0s - loss: 0.7458 - accuracy: 0.5054 - val_loss: 0.8709 - val_accuracy: 0.2927 - 76ms/epoch - 25ms/step\n",
      "Epoch 6/100\n",
      "3/3 - 0s - loss: 0.7404 - accuracy: 0.4946 - val_loss: 0.8555 - val_accuracy: 0.2927 - 80ms/epoch - 27ms/step\n",
      "Epoch 7/100\n",
      "3/3 - 0s - loss: 0.7358 - accuracy: 0.4839 - val_loss: 0.8421 - val_accuracy: 0.3171 - 81ms/epoch - 27ms/step\n",
      "Epoch 8/100\n",
      "3/3 - 0s - loss: 0.7319 - accuracy: 0.4946 - val_loss: 0.8303 - val_accuracy: 0.3415 - 70ms/epoch - 23ms/step\n",
      "Epoch 9/100\n",
      "3/3 - 0s - loss: 0.7285 - accuracy: 0.4946 - val_loss: 0.8200 - val_accuracy: 0.3415 - 75ms/epoch - 25ms/step\n",
      "Epoch 10/100\n",
      "3/3 - 0s - loss: 0.7258 - accuracy: 0.4731 - val_loss: 0.8112 - val_accuracy: 0.3415 - 80ms/epoch - 27ms/step\n",
      "Epoch 11/100\n",
      "3/3 - 0s - loss: 0.7234 - accuracy: 0.4731 - val_loss: 0.8038 - val_accuracy: 0.3415 - 74ms/epoch - 25ms/step\n",
      "Epoch 12/100\n",
      "3/3 - 0s - loss: 0.7213 - accuracy: 0.4731 - val_loss: 0.7976 - val_accuracy: 0.3415 - 68ms/epoch - 23ms/step\n",
      "Epoch 13/100\n",
      "3/3 - 0s - loss: 0.7193 - accuracy: 0.4516 - val_loss: 0.7924 - val_accuracy: 0.3171 - 78ms/epoch - 26ms/step\n",
      "Epoch 14/100\n",
      "3/3 - 0s - loss: 0.7175 - accuracy: 0.4624 - val_loss: 0.7882 - val_accuracy: 0.3171 - 73ms/epoch - 24ms/step\n",
      "Epoch 15/100\n",
      "3/3 - 0s - loss: 0.7157 - accuracy: 0.4624 - val_loss: 0.7847 - val_accuracy: 0.3171 - 76ms/epoch - 25ms/step\n",
      "Epoch 16/100\n",
      "3/3 - 0s - loss: 0.7140 - accuracy: 0.4731 - val_loss: 0.7819 - val_accuracy: 0.3171 - 83ms/epoch - 28ms/step\n",
      "Epoch 17/100\n",
      "3/3 - 0s - loss: 0.7122 - accuracy: 0.4731 - val_loss: 0.7796 - val_accuracy: 0.3171 - 74ms/epoch - 25ms/step\n",
      "Epoch 18/100\n",
      "3/3 - 0s - loss: 0.7106 - accuracy: 0.4946 - val_loss: 0.7778 - val_accuracy: 0.3171 - 78ms/epoch - 26ms/step\n",
      "Epoch 19/100\n",
      "3/3 - 0s - loss: 0.7089 - accuracy: 0.5054 - val_loss: 0.7763 - val_accuracy: 0.3171 - 81ms/epoch - 27ms/step\n",
      "Epoch 20/100\n",
      "3/3 - 0s - loss: 0.7072 - accuracy: 0.5054 - val_loss: 0.7750 - val_accuracy: 0.3415 - 77ms/epoch - 26ms/step\n",
      "Epoch 21/100\n",
      "3/3 - 0s - loss: 0.7055 - accuracy: 0.5054 - val_loss: 0.7739 - val_accuracy: 0.3415 - 74ms/epoch - 25ms/step\n",
      "Epoch 22/100\n",
      "3/3 - 0s - loss: 0.7038 - accuracy: 0.5054 - val_loss: 0.7729 - val_accuracy: 0.3415 - 78ms/epoch - 26ms/step\n",
      "Epoch 23/100\n",
      "3/3 - 0s - loss: 0.7021 - accuracy: 0.4946 - val_loss: 0.7720 - val_accuracy: 0.3415 - 75ms/epoch - 25ms/step\n",
      "Epoch 24/100\n",
      "3/3 - 0s - loss: 0.7004 - accuracy: 0.4946 - val_loss: 0.7710 - val_accuracy: 0.3415 - 79ms/epoch - 26ms/step\n",
      "Epoch 25/100\n",
      "3/3 - 0s - loss: 0.6987 - accuracy: 0.4946 - val_loss: 0.7700 - val_accuracy: 0.3415 - 82ms/epoch - 27ms/step\n",
      "Epoch 26/100\n",
      "3/3 - 0s - loss: 0.6970 - accuracy: 0.5161 - val_loss: 0.7690 - val_accuracy: 0.3659 - 73ms/epoch - 24ms/step\n",
      "Epoch 27/100\n",
      "3/3 - 0s - loss: 0.6953 - accuracy: 0.5161 - val_loss: 0.7679 - val_accuracy: 0.3659 - 73ms/epoch - 24ms/step\n",
      "Epoch 28/100\n",
      "3/3 - 0s - loss: 0.6936 - accuracy: 0.5161 - val_loss: 0.7668 - val_accuracy: 0.3659 - 79ms/epoch - 26ms/step\n",
      "Epoch 29/100\n",
      "3/3 - 0s - loss: 0.6919 - accuracy: 0.5161 - val_loss: 0.7655 - val_accuracy: 0.3659 - 69ms/epoch - 23ms/step\n",
      "Epoch 30/100\n",
      "3/3 - 0s - loss: 0.6902 - accuracy: 0.5161 - val_loss: 0.7643 - val_accuracy: 0.3659 - 75ms/epoch - 25ms/step\n",
      "Epoch 31/100\n",
      "3/3 - 0s - loss: 0.6885 - accuracy: 0.5161 - val_loss: 0.7629 - val_accuracy: 0.3659 - 73ms/epoch - 24ms/step\n",
      "Epoch 32/100\n",
      "3/3 - 0s - loss: 0.6868 - accuracy: 0.5161 - val_loss: 0.7616 - val_accuracy: 0.3659 - 79ms/epoch - 26ms/step\n",
      "Epoch 33/100\n",
      "3/3 - 0s - loss: 0.6850 - accuracy: 0.5161 - val_loss: 0.7602 - val_accuracy: 0.3659 - 75ms/epoch - 25ms/step\n",
      "Epoch 34/100\n",
      "3/3 - 0s - loss: 0.6833 - accuracy: 0.5161 - val_loss: 0.7587 - val_accuracy: 0.3659 - 74ms/epoch - 25ms/step\n",
      "Epoch 35/100\n",
      "3/3 - 0s - loss: 0.6816 - accuracy: 0.5161 - val_loss: 0.7571 - val_accuracy: 0.3659 - 72ms/epoch - 24ms/step\n",
      "Epoch 36/100\n",
      "3/3 - 0s - loss: 0.6798 - accuracy: 0.5269 - val_loss: 0.7556 - val_accuracy: 0.3659 - 73ms/epoch - 24ms/step\n",
      "Epoch 37/100\n",
      "3/3 - 0s - loss: 0.6781 - accuracy: 0.5269 - val_loss: 0.7540 - val_accuracy: 0.3659 - 70ms/epoch - 23ms/step\n",
      "Epoch 38/100\n",
      "3/3 - 0s - loss: 0.6763 - accuracy: 0.5269 - val_loss: 0.7524 - val_accuracy: 0.3659 - 77ms/epoch - 26ms/step\n",
      "Epoch 39/100\n",
      "3/3 - 0s - loss: 0.6746 - accuracy: 0.5269 - val_loss: 0.7508 - val_accuracy: 0.3659 - 82ms/epoch - 27ms/step\n",
      "Epoch 40/100\n",
      "3/3 - 0s - loss: 0.6728 - accuracy: 0.5269 - val_loss: 0.7492 - val_accuracy: 0.3659 - 80ms/epoch - 27ms/step\n",
      "Epoch 41/100\n",
      "3/3 - 0s - loss: 0.6710 - accuracy: 0.5269 - val_loss: 0.7476 - val_accuracy: 0.3659 - 72ms/epoch - 24ms/step\n",
      "Epoch 42/100\n",
      "3/3 - 0s - loss: 0.6692 - accuracy: 0.5269 - val_loss: 0.7460 - val_accuracy: 0.3659 - 82ms/epoch - 27ms/step\n",
      "Epoch 43/100\n",
      "3/3 - 0s - loss: 0.6674 - accuracy: 0.5484 - val_loss: 0.7444 - val_accuracy: 0.3659 - 75ms/epoch - 25ms/step\n",
      "Epoch 44/100\n",
      "3/3 - 0s - loss: 0.6657 - accuracy: 0.5591 - val_loss: 0.7428 - val_accuracy: 0.3659 - 79ms/epoch - 26ms/step\n",
      "Epoch 45/100\n",
      "3/3 - 0s - loss: 0.6639 - accuracy: 0.5591 - val_loss: 0.7412 - val_accuracy: 0.3659 - 71ms/epoch - 24ms/step\n",
      "Epoch 46/100\n",
      "3/3 - 0s - loss: 0.6620 - accuracy: 0.5699 - val_loss: 0.7395 - val_accuracy: 0.3659 - 71ms/epoch - 24ms/step\n",
      "Epoch 47/100\n",
      "3/3 - 0s - loss: 0.6602 - accuracy: 0.5914 - val_loss: 0.7379 - val_accuracy: 0.3902 - 75ms/epoch - 25ms/step\n",
      "Epoch 48/100\n",
      "3/3 - 0s - loss: 0.6584 - accuracy: 0.6022 - val_loss: 0.7363 - val_accuracy: 0.3902 - 72ms/epoch - 24ms/step\n",
      "Epoch 49/100\n",
      "3/3 - 0s - loss: 0.6566 - accuracy: 0.6022 - val_loss: 0.7348 - val_accuracy: 0.3902 - 88ms/epoch - 29ms/step\n",
      "Epoch 50/100\n",
      "3/3 - 0s - loss: 0.6547 - accuracy: 0.6022 - val_loss: 0.7332 - val_accuracy: 0.4146 - 73ms/epoch - 24ms/step\n",
      "Epoch 51/100\n",
      "3/3 - 0s - loss: 0.6529 - accuracy: 0.6129 - val_loss: 0.7317 - val_accuracy: 0.4146 - 74ms/epoch - 25ms/step\n",
      "Epoch 52/100\n",
      "3/3 - 0s - loss: 0.6510 - accuracy: 0.6344 - val_loss: 0.7302 - val_accuracy: 0.4146 - 75ms/epoch - 25ms/step\n",
      "Epoch 53/100\n",
      "3/3 - 0s - loss: 0.6492 - accuracy: 0.6344 - val_loss: 0.7286 - val_accuracy: 0.4634 - 77ms/epoch - 26ms/step\n",
      "Epoch 54/100\n",
      "3/3 - 0s - loss: 0.6473 - accuracy: 0.6344 - val_loss: 0.7271 - val_accuracy: 0.4634 - 90ms/epoch - 30ms/step\n",
      "Epoch 55/100\n",
      "3/3 - 0s - loss: 0.6454 - accuracy: 0.6452 - val_loss: 0.7255 - val_accuracy: 0.4634 - 92ms/epoch - 31ms/step\n",
      "Epoch 56/100\n",
      "3/3 - 0s - loss: 0.6435 - accuracy: 0.6452 - val_loss: 0.7240 - val_accuracy: 0.4634 - 91ms/epoch - 30ms/step\n",
      "Epoch 57/100\n",
      "3/3 - 0s - loss: 0.6416 - accuracy: 0.6452 - val_loss: 0.7224 - val_accuracy: 0.4634 - 94ms/epoch - 31ms/step\n",
      "Epoch 58/100\n",
      "3/3 - 0s - loss: 0.6397 - accuracy: 0.6452 - val_loss: 0.7208 - val_accuracy: 0.4878 - 76ms/epoch - 25ms/step\n",
      "Epoch 59/100\n",
      "3/3 - 0s - loss: 0.6378 - accuracy: 0.6559 - val_loss: 0.7192 - val_accuracy: 0.4878 - 74ms/epoch - 25ms/step\n",
      "Epoch 60/100\n",
      "3/3 - 0s - loss: 0.6359 - accuracy: 0.6667 - val_loss: 0.7177 - val_accuracy: 0.4878 - 72ms/epoch - 24ms/step\n",
      "Epoch 61/100\n",
      "3/3 - 0s - loss: 0.6339 - accuracy: 0.6667 - val_loss: 0.7161 - val_accuracy: 0.4878 - 76ms/epoch - 25ms/step\n",
      "Epoch 62/100\n",
      "3/3 - 0s - loss: 0.6320 - accuracy: 0.6667 - val_loss: 0.7145 - val_accuracy: 0.4878 - 72ms/epoch - 24ms/step\n",
      "Epoch 63/100\n",
      "3/3 - 0s - loss: 0.6300 - accuracy: 0.6882 - val_loss: 0.7129 - val_accuracy: 0.4878 - 74ms/epoch - 25ms/step\n",
      "Epoch 64/100\n",
      "3/3 - 0s - loss: 0.6281 - accuracy: 0.6882 - val_loss: 0.7114 - val_accuracy: 0.4878 - 74ms/epoch - 25ms/step\n",
      "Epoch 65/100\n",
      "3/3 - 0s - loss: 0.6261 - accuracy: 0.6882 - val_loss: 0.7097 - val_accuracy: 0.4878 - 74ms/epoch - 25ms/step\n",
      "Epoch 66/100\n",
      "3/3 - 0s - loss: 0.6241 - accuracy: 0.6882 - val_loss: 0.7081 - val_accuracy: 0.4878 - 74ms/epoch - 25ms/step\n",
      "Epoch 67/100\n",
      "3/3 - 0s - loss: 0.6222 - accuracy: 0.6882 - val_loss: 0.7064 - val_accuracy: 0.4878 - 71ms/epoch - 24ms/step\n"
     ]
    },
    {
     "name": "stdout",
     "output_type": "stream",
     "text": [
      "Epoch 68/100\n",
      "3/3 - 0s - loss: 0.6202 - accuracy: 0.6882 - val_loss: 0.7047 - val_accuracy: 0.4878 - 72ms/epoch - 24ms/step\n",
      "Epoch 69/100\n",
      "3/3 - 0s - loss: 0.6182 - accuracy: 0.6989 - val_loss: 0.7030 - val_accuracy: 0.4878 - 71ms/epoch - 24ms/step\n",
      "Epoch 70/100\n",
      "3/3 - 0s - loss: 0.6162 - accuracy: 0.6989 - val_loss: 0.7012 - val_accuracy: 0.5122 - 74ms/epoch - 25ms/step\n",
      "Epoch 71/100\n",
      "3/3 - 0s - loss: 0.6142 - accuracy: 0.6989 - val_loss: 0.6994 - val_accuracy: 0.5122 - 75ms/epoch - 25ms/step\n",
      "Epoch 72/100\n",
      "3/3 - 0s - loss: 0.6122 - accuracy: 0.6989 - val_loss: 0.6976 - val_accuracy: 0.5122 - 71ms/epoch - 24ms/step\n",
      "Epoch 73/100\n",
      "3/3 - 0s - loss: 0.6101 - accuracy: 0.7097 - val_loss: 0.6957 - val_accuracy: 0.4878 - 72ms/epoch - 24ms/step\n",
      "Epoch 74/100\n",
      "3/3 - 0s - loss: 0.6081 - accuracy: 0.7097 - val_loss: 0.6938 - val_accuracy: 0.5122 - 73ms/epoch - 24ms/step\n",
      "Epoch 75/100\n",
      "3/3 - 0s - loss: 0.6060 - accuracy: 0.7097 - val_loss: 0.6919 - val_accuracy: 0.5122 - 72ms/epoch - 24ms/step\n",
      "Epoch 76/100\n",
      "3/3 - 0s - loss: 0.6040 - accuracy: 0.7097 - val_loss: 0.6901 - val_accuracy: 0.5122 - 75ms/epoch - 25ms/step\n",
      "Epoch 77/100\n",
      "3/3 - 0s - loss: 0.6019 - accuracy: 0.7097 - val_loss: 0.6882 - val_accuracy: 0.5122 - 69ms/epoch - 23ms/step\n",
      "Epoch 78/100\n",
      "3/3 - 0s - loss: 0.5999 - accuracy: 0.7097 - val_loss: 0.6864 - val_accuracy: 0.5122 - 67ms/epoch - 22ms/step\n",
      "Epoch 79/100\n",
      "3/3 - 0s - loss: 0.5978 - accuracy: 0.7097 - val_loss: 0.6846 - val_accuracy: 0.5122 - 69ms/epoch - 23ms/step\n",
      "Epoch 80/100\n",
      "3/3 - 0s - loss: 0.5957 - accuracy: 0.7097 - val_loss: 0.6829 - val_accuracy: 0.5122 - 70ms/epoch - 23ms/step\n",
      "Epoch 81/100\n",
      "3/3 - 0s - loss: 0.5936 - accuracy: 0.7097 - val_loss: 0.6812 - val_accuracy: 0.5122 - 73ms/epoch - 24ms/step\n",
      "Epoch 82/100\n",
      "3/3 - 0s - loss: 0.5915 - accuracy: 0.7097 - val_loss: 0.6796 - val_accuracy: 0.5122 - 73ms/epoch - 24ms/step\n",
      "Epoch 83/100\n",
      "3/3 - 0s - loss: 0.5894 - accuracy: 0.7097 - val_loss: 0.6780 - val_accuracy: 0.5122 - 73ms/epoch - 24ms/step\n",
      "Epoch 84/100\n",
      "3/3 - 0s - loss: 0.5873 - accuracy: 0.7204 - val_loss: 0.6764 - val_accuracy: 0.5122 - 70ms/epoch - 23ms/step\n",
      "Epoch 85/100\n",
      "3/3 - 0s - loss: 0.5851 - accuracy: 0.7204 - val_loss: 0.6748 - val_accuracy: 0.5122 - 72ms/epoch - 24ms/step\n",
      "Epoch 86/100\n",
      "3/3 - 0s - loss: 0.5830 - accuracy: 0.7204 - val_loss: 0.6732 - val_accuracy: 0.5122 - 70ms/epoch - 23ms/step\n",
      "Epoch 87/100\n",
      "3/3 - 0s - loss: 0.5809 - accuracy: 0.7204 - val_loss: 0.6716 - val_accuracy: 0.5122 - 74ms/epoch - 25ms/step\n",
      "Epoch 88/100\n",
      "3/3 - 0s - loss: 0.5787 - accuracy: 0.7204 - val_loss: 0.6699 - val_accuracy: 0.5122 - 74ms/epoch - 25ms/step\n",
      "Epoch 89/100\n",
      "3/3 - 0s - loss: 0.5766 - accuracy: 0.7204 - val_loss: 0.6683 - val_accuracy: 0.5122 - 69ms/epoch - 23ms/step\n",
      "Epoch 90/100\n",
      "3/3 - 0s - loss: 0.5744 - accuracy: 0.7204 - val_loss: 0.6666 - val_accuracy: 0.5366 - 70ms/epoch - 23ms/step\n",
      "Epoch 91/100\n",
      "3/3 - 0s - loss: 0.5722 - accuracy: 0.7204 - val_loss: 0.6649 - val_accuracy: 0.5366 - 75ms/epoch - 25ms/step\n",
      "Epoch 92/100\n",
      "3/3 - 0s - loss: 0.5701 - accuracy: 0.7097 - val_loss: 0.6631 - val_accuracy: 0.5366 - 74ms/epoch - 25ms/step\n",
      "Epoch 93/100\n",
      "3/3 - 0s - loss: 0.5679 - accuracy: 0.7312 - val_loss: 0.6614 - val_accuracy: 0.5366 - 84ms/epoch - 28ms/step\n",
      "Epoch 94/100\n",
      "3/3 - 0s - loss: 0.5657 - accuracy: 0.7527 - val_loss: 0.6598 - val_accuracy: 0.5610 - 73ms/epoch - 24ms/step\n",
      "Epoch 95/100\n",
      "3/3 - 0s - loss: 0.5635 - accuracy: 0.7527 - val_loss: 0.6581 - val_accuracy: 0.5610 - 77ms/epoch - 26ms/step\n",
      "Epoch 96/100\n",
      "3/3 - 0s - loss: 0.5613 - accuracy: 0.7634 - val_loss: 0.6565 - val_accuracy: 0.5610 - 87ms/epoch - 29ms/step\n",
      "Epoch 97/100\n",
      "3/3 - 0s - loss: 0.5591 - accuracy: 0.7634 - val_loss: 0.6547 - val_accuracy: 0.5610 - 62ms/epoch - 21ms/step\n",
      "Epoch 98/100\n",
      "3/3 - 0s - loss: 0.5568 - accuracy: 0.7634 - val_loss: 0.6527 - val_accuracy: 0.5610 - 67ms/epoch - 22ms/step\n",
      "Epoch 99/100\n",
      "3/3 - 0s - loss: 0.5546 - accuracy: 0.7742 - val_loss: 0.6508 - val_accuracy: 0.5610 - 80ms/epoch - 27ms/step\n",
      "Epoch 100/100\n",
      "3/3 - 0s - loss: 0.5524 - accuracy: 0.7742 - val_loss: 0.6488 - val_accuracy: 0.5854 - 91ms/epoch - 30ms/step\n"
     ]
    }
   ],
   "source": [
    "# fit the model (traning)\n",
    "history = model1.fit( X_train, y_train, epochs=100, batch_size=32,\n",
    "                     validation_split=0.3, verbose=2,shuffle=False)"
   ]
  },
  {
   "cell_type": "code",
   "execution_count": 25,
   "metadata": {
    "colab": {
     "base_uri": "https://localhost:8080/"
    },
    "executionInfo": {
     "elapsed": 416,
     "status": "ok",
     "timestamp": 1691573806545,
     "user": {
      "displayName": "shantanu pathak",
      "userId": "10566305450164209704"
     },
     "user_tz": -330
    },
    "id": "ay2zyrMnxVG-",
    "outputId": "01dfdfce-f7de-41ab-8faf-cae3b3d7364b"
   },
   "outputs": [
    {
     "name": "stdout",
     "output_type": "stream",
     "text": [
      "Test Accuracy: 0.690\n"
     ]
    }
   ],
   "source": [
    "# evaluate the model\n",
    "loss, acc = model1.evaluate(X_test, y_test, verbose=0)\n",
    "print('Test Accuracy: %.3f' % acc)"
   ]
  },
  {
   "cell_type": "code",
   "execution_count": 26,
   "metadata": {
    "colab": {
     "base_uri": "https://localhost:8080/",
     "height": 448
    },
    "executionInfo": {
     "elapsed": 542,
     "status": "ok",
     "timestamp": 1691573847716,
     "user": {
      "displayName": "shantanu pathak",
      "userId": "10566305450164209704"
     },
     "user_tz": -330
    },
    "id": "aGvags6QYzwP",
    "outputId": "7734f3fa-afa6-48ab-828d-2bcd403fa042"
   },
   "outputs": [
    {
     "data": {
      "text/plain": [
       "[<matplotlib.lines.Line2D at 0x2064cec01c0>]"
      ]
     },
     "execution_count": 26,
     "metadata": {},
     "output_type": "execute_result"
    },
    {
     "data": {
      "image/png": "[encoded data removed]",
      "text/plain": [
       "<Figure size 432x288 with 1 Axes>"
      ]
     },
     "metadata": {
      "needs_background": "light"
     },
     "output_type": "display_data"
    }
   ],
   "source": [
    "import matplotlib.pyplot as plt\n",
    "plt.plot(history.history['loss']) # loss is training loss\n",
    "plt.plot(history.history['val_loss']) # val_loss loss on the validation data / test loss"
   ]
  },
  {
   "cell_type": "markdown",
   "metadata": {
    "id": "3A3UVQcSaI-O"
   },
   "source": [
    "# Create another model"
   ]
  },
  {
   "cell_type": "code",
   "execution_count": 27,
   "metadata": {
    "id": "ZhbxOkDSaIfM"
   },
   "outputs": [],
   "source": [
    "# define model\n",
    "def build_model():\n",
    "  model1 = Sequential()\n",
    "  model1.add(Dense(5, activation='relu', input_shape=(n_features,)))\n",
    "  model1.add(Dense(10, activation='relu'))\n",
    "  model1.add(Dense(8, activation='relu'))\n",
    "  # model1.add(Dense(8, activation='relu'))\n",
    "  model1.add(Dense(1, activation='sigmoid'))\n",
    "  return model1"
   ]
  },
  {
   "cell_type": "code",
   "execution_count": 28,
   "metadata": {
    "id": "ChlfSurbjpX7"
   },
   "outputs": [],
   "source": [
    "model1 = build_model()"
   ]
  },
  {
   "cell_type": "code",
   "execution_count": 29,
   "metadata": {
    "id": "F8GUsA9DZoEe"
   },
   "outputs": [],
   "source": [
    "# compile the model\n",
    "model1.compile(optimizer='adam', loss='binary_crossentropy', metrics=['accuracy'])"
   ]
  },
  {
   "cell_type": "code",
   "execution_count": 30,
   "metadata": {
    "id": "v90HLVlXarfT"
   },
   "outputs": [],
   "source": [
    "# fit the model\n",
    "history = model1.fit(X_train, y_train, epochs=100, batch_size=32, validation_split=0.3, verbose=0,shuffle=False)"
   ]
  },
  {
   "cell_type": "code",
   "execution_count": 31,
   "metadata": {
    "colab": {
     "base_uri": "https://localhost:8080/"
    },
    "executionInfo": {
     "elapsed": 386,
     "status": "ok",
     "timestamp": 1660305972209,
     "user": {
      "displayName": "IACSD Akurdi",
      "userId": "10433988175144222979"
     },
     "user_tz": -330
    },
    "id": "Dqybqu3Bauu0",
    "outputId": "e632e896-2751-47d7-b537-e2b0f4feedc8"
   },
   "outputs": [
    {
     "name": "stdout",
     "output_type": "stream",
     "text": [
      "Test Accuracy: 0.914\n"
     ]
    }
   ],
   "source": [
    "# evaluate the model\n",
    "loss, acc = model1.evaluate(X_test, y_test, verbose=0)\n",
    "print('Test Accuracy: %.3f' % acc)"
   ]
  },
  {
   "cell_type": "code",
   "execution_count": 32,
   "metadata": {
    "colab": {
     "base_uri": "https://localhost:8080/",
     "height": 282
    },
    "executionInfo": {
     "elapsed": 680,
     "status": "ok",
     "timestamp": 1660305989971,
     "user": {
      "displayName": "IACSD Akurdi",
      "userId": "10433988175144222979"
     },
     "user_tz": -330
    },
    "id": "RFNzvWrdaxet",
    "outputId": "c5a7f107-aa38-47b6-f5b8-19ece82f106c"
   },
   "outputs": [
    {
     "data": {
      "text/plain": [
       "[<matplotlib.lines.Line2D at 0x206500c2d40>]"
      ]
     },
     "execution_count": 32,
     "metadata": {},
     "output_type": "execute_result"
    },
    {
     "data": {
      "image/png": "[encoded data removed]",
      "text/plain": [
       "<Figure size 432x288 with 1 Axes>"
      ]
     },
     "metadata": {
      "needs_background": "light"
     },
     "output_type": "display_data"
    }
   ],
   "source": [
    "import matplotlib.pyplot as plt\n",
    "plt.plot(history.history['loss'])\n",
    "plt.plot(history.history['val_loss'])"
   ]
  },
  {
   "cell_type": "markdown",
   "metadata": {
    "id": "ZtbWdawRhqyK"
   },
   "source": [
    "# DO multiple iterations to get average performance"
   ]
  },
  {
   "cell_type": "code",
   "execution_count": 33,
   "metadata": {
    "id": "xbTos4eVtROa"
   },
   "outputs": [],
   "source": [
    "from sklearn.metrics import f1_score\n",
    "import tensorflow as tf"
   ]
  },
  {
   "cell_type": "code",
   "execution_count": 34,
   "metadata": {
    "colab": {
     "base_uri": "https://localhost:8080/"
    },
    "executionInfo": {
     "elapsed": 86709,
     "status": "ok",
     "timestamp": 1691575047762,
     "user": {
      "displayName": "shantanu pathak",
      "userId": "10566305450164209704"
     },
     "user_tz": -330
    },
    "id": "O7lCG1via0ig",
    "outputId": "e25ccf53-368a-4db7-b220-22e47267b475"
   },
   "outputs": [
    {
     "name": "stdout",
     "output_type": "stream",
     "text": [
      "0 th Iteration Test Accuracy and precision:  0.9137930870056152 0.8529411554336548\n",
      "1 th Iteration Test Accuracy and precision:  1.0 1.0\n",
      "2 th Iteration Test Accuracy and precision:  0.9482758641242981 0.90625\n",
      "3 th Iteration Test Accuracy and precision:  1.0 1.0\n",
      "4 th Iteration Test Accuracy and precision:  1.0 1.0\n",
      "5 th Iteration Test Accuracy and precision:  1.0 1.0\n",
      "6 th Iteration Test Accuracy and precision:  1.0 1.0\n",
      "7 th Iteration Test Accuracy and precision:  0.982758641242981 1.0\n",
      "8 th Iteration Test Accuracy and precision:  0.8103448152542114 0.7250000238418579\n",
      "9 th Iteration Test Accuracy and precision:  1.0 1.0\n"
     ]
    }
   ],
   "source": [
    "for i in range(10):\n",
    "  model1 = build_model()\n",
    "  model1.compile(optimizer='adam', loss='binary_crossentropy', metrics=['accuracy',\n",
    "                                                                  tf.keras.metrics.Precision()])\n",
    "  history = model1.fit(X_train, y_train, epochs=100, batch_size=32,\n",
    "                       validation_split=0.3, verbose=0,shuffle=False)\n",
    "  loss, acc, precision = model1.evaluate(X_test, y_test, verbose=0)\n",
    "  print(i, 'th Iteration Test Accuracy and precision: ', acc, precision)\n"
   ]
  },
  {
   "cell_type": "markdown",
   "metadata": {
    "id": "V-g9zSE-9Qa7"
   },
   "source": [
    "# Why we get variation in accuracy ?\n",
    "\n",
    "because we randomly initialise the weights\n",
    "\n",
    "weights are randomly initialised using uniform distribution"
   ]
  },
  {
   "cell_type": "markdown",
   "metadata": {
    "id": "2zpzSi9iVr9A"
   },
   "source": [
    "# NN for regression"
   ]
  },
  {
   "cell_type": "code",
   "execution_count": 35,
   "metadata": {
    "executionInfo": {
     "elapsed": 437,
     "status": "ok",
     "timestamp": 1705493806944,
     "user": {
      "displayName": "IACSD Akurdi",
      "userId": "10433988175144222979"
     },
     "user_tz": -330
    },
    "id": "bXm11GLwWhJK"
   },
   "outputs": [],
   "source": [
    "n_features=33"
   ]
  },
  {
   "cell_type": "code",
   "execution_count": 36,
   "metadata": {
    "executionInfo": {
     "elapsed": 702,
     "status": "ok",
     "timestamp": 1705493809726,
     "user": {
      "displayName": "IACSD Akurdi",
      "userId": "10433988175144222979"
     },
     "user_tz": -330
    },
    "id": "vb65suMZg9xU"
   },
   "outputs": [],
   "source": [
    "model1 = Sequential()\n",
    "model1.add(Dense(5, activation='relu', input_shape=(n_features,)))\n",
    "# model1.add(Dense(100, activation='relu'))\n",
    "# model1.add(Dense(800, activation='relu'))\n",
    "# model1.add(Dense(8, activation='relu'))\n",
    "# model1.add(Dropout(0.2))\n",
    "model1.add(Dense(1, activation='linear'))#linear"
   ]
  },
  {
   "cell_type": "code",
   "execution_count": 37,
   "metadata": {
    "executionInfo": {
     "elapsed": 426,
     "status": "ok",
     "timestamp": 1705493814161,
     "user": {
      "displayName": "IACSD Akurdi",
      "userId": "10433988175144222979"
     },
     "user_tz": -330
    },
    "id": "zQ-i0geNVzd-"
   },
   "outputs": [],
   "source": [
    "model1.compile(optimizer='adam', loss='mse', metrics=['mae'])"
   ]
  },
  {
   "cell_type": "code",
   "execution_count": 38,
   "metadata": {
    "id": "I0lmG54GWmMn"
   },
   "outputs": [
    {
     "name": "stdout",
     "output_type": "stream",
     "text": [
      "Epoch 1/100\n",
      "3/3 - 1s - loss: 1.3241 - mae: 0.9565 - val_loss: 0.7629 - val_mae: 0.6555 - 1s/epoch - 399ms/step\n",
      "Epoch 2/100\n",
      "3/3 - 0s - loss: 1.2248 - mae: 0.9163 - val_loss: 0.7175 - val_mae: 0.6486 - 75ms/epoch - 25ms/step\n",
      "Epoch 3/100\n",
      "3/3 - 0s - loss: 1.1324 - mae: 0.8818 - val_loss: 0.6796 - val_mae: 0.6427 - 80ms/epoch - 27ms/step\n",
      "Epoch 4/100\n",
      "3/3 - 0s - loss: 1.0507 - mae: 0.8510 - val_loss: 0.6455 - val_mae: 0.6360 - 88ms/epoch - 29ms/step\n",
      "Epoch 5/100\n",
      "3/3 - 0s - loss: 0.9799 - mae: 0.8240 - val_loss: 0.6168 - val_mae: 0.6303 - 80ms/epoch - 27ms/step\n",
      "Epoch 6/100\n",
      "3/3 - 0s - loss: 0.9072 - mae: 0.7931 - val_loss: 0.5954 - val_mae: 0.6279 - 61ms/epoch - 20ms/step\n",
      "Epoch 7/100\n",
      "3/3 - 0s - loss: 0.8547 - mae: 0.7707 - val_loss: 0.5784 - val_mae: 0.6261 - 74ms/epoch - 25ms/step\n",
      "Epoch 8/100\n",
      "3/3 - 0s - loss: 0.7997 - mae: 0.7505 - val_loss: 0.5656 - val_mae: 0.6241 - 57ms/epoch - 19ms/step\n",
      "Epoch 9/100\n",
      "3/3 - 0s - loss: 0.7556 - mae: 0.7336 - val_loss: 0.5570 - val_mae: 0.6238 - 61ms/epoch - 20ms/step\n",
      "Epoch 10/100\n",
      "3/3 - 0s - loss: 0.7163 - mae: 0.7197 - val_loss: 0.5524 - val_mae: 0.6245 - 69ms/epoch - 23ms/step\n",
      "Epoch 11/100\n",
      "3/3 - 0s - loss: 0.6829 - mae: 0.7044 - val_loss: 0.5502 - val_mae: 0.6269 - 109ms/epoch - 36ms/step\n",
      "Epoch 12/100\n",
      "3/3 - 0s - loss: 0.6520 - mae: 0.6879 - val_loss: 0.5496 - val_mae: 0.6299 - 80ms/epoch - 27ms/step\n",
      "Epoch 13/100\n",
      "3/3 - 0s - loss: 0.6262 - mae: 0.6739 - val_loss: 0.5505 - val_mae: 0.6325 - 72ms/epoch - 24ms/step\n",
      "Epoch 14/100\n",
      "3/3 - 0s - loss: 0.6047 - mae: 0.6618 - val_loss: 0.5523 - val_mae: 0.6344 - 72ms/epoch - 24ms/step\n",
      "Epoch 15/100\n",
      "3/3 - 0s - loss: 0.5826 - mae: 0.6482 - val_loss: 0.5520 - val_mae: 0.6346 - 69ms/epoch - 23ms/step\n",
      "Epoch 16/100\n",
      "3/3 - 0s - loss: 0.5649 - mae: 0.6383 - val_loss: 0.5500 - val_mae: 0.6334 - 74ms/epoch - 25ms/step\n",
      "Epoch 17/100\n",
      "3/3 - 0s - loss: 0.5511 - mae: 0.6316 - val_loss: 0.5493 - val_mae: 0.6327 - 51ms/epoch - 17ms/step\n",
      "Epoch 18/100\n",
      "3/3 - 0s - loss: 0.5359 - mae: 0.6239 - val_loss: 0.5480 - val_mae: 0.6325 - 58ms/epoch - 19ms/step\n",
      "Epoch 19/100\n",
      "3/3 - 0s - loss: 0.5203 - mae: 0.6156 - val_loss: 0.5437 - val_mae: 0.6310 - 57ms/epoch - 19ms/step\n",
      "Epoch 20/100\n",
      "3/3 - 0s - loss: 0.5088 - mae: 0.6091 - val_loss: 0.5383 - val_mae: 0.6285 - 52ms/epoch - 17ms/step\n",
      "Epoch 21/100\n",
      "3/3 - 0s - loss: 0.4960 - mae: 0.6021 - val_loss: 0.5318 - val_mae: 0.6251 - 52ms/epoch - 17ms/step\n",
      "Epoch 22/100\n",
      "3/3 - 0s - loss: 0.4849 - mae: 0.5963 - val_loss: 0.5252 - val_mae: 0.6216 - 69ms/epoch - 23ms/step\n",
      "Epoch 23/100\n",
      "3/3 - 0s - loss: 0.4734 - mae: 0.5899 - val_loss: 0.5163 - val_mae: 0.6166 - 74ms/epoch - 25ms/step\n",
      "Epoch 24/100\n",
      "3/3 - 0s - loss: 0.4620 - mae: 0.5836 - val_loss: 0.5075 - val_mae: 0.6116 - 71ms/epoch - 24ms/step\n",
      "Epoch 25/100\n",
      "3/3 - 0s - loss: 0.4535 - mae: 0.5791 - val_loss: 0.4979 - val_mae: 0.6059 - 84ms/epoch - 28ms/step\n",
      "Epoch 26/100\n",
      "3/3 - 0s - loss: 0.4428 - mae: 0.5728 - val_loss: 0.4896 - val_mae: 0.6011 - 72ms/epoch - 24ms/step\n",
      "Epoch 27/100\n",
      "3/3 - 0s - loss: 0.4347 - mae: 0.5685 - val_loss: 0.4820 - val_mae: 0.5970 - 64ms/epoch - 21ms/step\n",
      "Epoch 28/100\n",
      "3/3 - 0s - loss: 0.4264 - mae: 0.5638 - val_loss: 0.4751 - val_mae: 0.5937 - 73ms/epoch - 24ms/step\n",
      "Epoch 29/100\n",
      "3/3 - 0s - loss: 0.4177 - mae: 0.5588 - val_loss: 0.4681 - val_mae: 0.5901 - 75ms/epoch - 25ms/step\n",
      "Epoch 30/100\n",
      "3/3 - 0s - loss: 0.4100 - mae: 0.5550 - val_loss: 0.4615 - val_mae: 0.5868 - 75ms/epoch - 25ms/step\n",
      "Epoch 31/100\n",
      "3/3 - 0s - loss: 0.4019 - mae: 0.5506 - val_loss: 0.4552 - val_mae: 0.5836 - 73ms/epoch - 24ms/step\n",
      "Epoch 32/100\n",
      "3/3 - 0s - loss: 0.3938 - mae: 0.5463 - val_loss: 0.4501 - val_mae: 0.5810 - 71ms/epoch - 24ms/step\n",
      "Epoch 33/100\n",
      "3/3 - 0s - loss: 0.3872 - mae: 0.5428 - val_loss: 0.4446 - val_mae: 0.5783 - 109ms/epoch - 36ms/step\n",
      "Epoch 34/100\n",
      "3/3 - 0s - loss: 0.3797 - mae: 0.5385 - val_loss: 0.4406 - val_mae: 0.5764 - 58ms/epoch - 19ms/step\n",
      "Epoch 35/100\n",
      "3/3 - 0s - loss: 0.3733 - mae: 0.5349 - val_loss: 0.4361 - val_mae: 0.5741 - 53ms/epoch - 18ms/step\n",
      "Epoch 36/100\n",
      "3/3 - 0s - loss: 0.3667 - mae: 0.5311 - val_loss: 0.4329 - val_mae: 0.5728 - 52ms/epoch - 17ms/step\n",
      "Epoch 37/100\n",
      "3/3 - 0s - loss: 0.3602 - mae: 0.5275 - val_loss: 0.4269 - val_mae: 0.5694 - 54ms/epoch - 18ms/step\n",
      "Epoch 38/100\n",
      "3/3 - 0s - loss: 0.3538 - mae: 0.5239 - val_loss: 0.4231 - val_mae: 0.5675 - 74ms/epoch - 25ms/step\n",
      "Epoch 39/100\n",
      "3/3 - 0s - loss: 0.3478 - mae: 0.5202 - val_loss: 0.4184 - val_mae: 0.5650 - 94ms/epoch - 31ms/step\n",
      "Epoch 40/100\n",
      "3/3 - 0s - loss: 0.3418 - mae: 0.5166 - val_loss: 0.4149 - val_mae: 0.5632 - 81ms/epoch - 27ms/step\n",
      "Epoch 41/100\n",
      "3/3 - 0s - loss: 0.3365 - mae: 0.5132 - val_loss: 0.4104 - val_mae: 0.5606 - 78ms/epoch - 26ms/step\n",
      "Epoch 42/100\n",
      "3/3 - 0s - loss: 0.3311 - mae: 0.5100 - val_loss: 0.4063 - val_mae: 0.5583 - 69ms/epoch - 23ms/step\n",
      "Epoch 43/100\n",
      "3/3 - 0s - loss: 0.3260 - mae: 0.5067 - val_loss: 0.4022 - val_mae: 0.5559 - 67ms/epoch - 22ms/step\n",
      "Epoch 44/100\n",
      "3/3 - 0s - loss: 0.3209 - mae: 0.5034 - val_loss: 0.3984 - val_mae: 0.5537 - 71ms/epoch - 24ms/step\n",
      "Epoch 45/100\n",
      "3/3 - 0s - loss: 0.3163 - mae: 0.5004 - val_loss: 0.3946 - val_mae: 0.5514 - 54ms/epoch - 18ms/step\n",
      "Epoch 46/100\n",
      "3/3 - 0s - loss: 0.3112 - mae: 0.4971 - val_loss: 0.3908 - val_mae: 0.5490 - 55ms/epoch - 18ms/step\n",
      "Epoch 47/100\n",
      "3/3 - 0s - loss: 0.3076 - mae: 0.4947 - val_loss: 0.3860 - val_mae: 0.5460 - 66ms/epoch - 22ms/step\n",
      "Epoch 48/100\n",
      "3/3 - 0s - loss: 0.3027 - mae: 0.4914 - val_loss: 0.3827 - val_mae: 0.5440 - 72ms/epoch - 24ms/step\n",
      "Epoch 49/100\n",
      "3/3 - 0s - loss: 0.2984 - mae: 0.4884 - val_loss: 0.3794 - val_mae: 0.5419 - 71ms/epoch - 24ms/step\n",
      "Epoch 50/100\n",
      "3/3 - 0s - loss: 0.2943 - mae: 0.4854 - val_loss: 0.3764 - val_mae: 0.5401 - 71ms/epoch - 24ms/step\n",
      "Epoch 51/100\n",
      "3/3 - 0s - loss: 0.2899 - mae: 0.4820 - val_loss: 0.3734 - val_mae: 0.5382 - 76ms/epoch - 25ms/step\n",
      "Epoch 52/100\n",
      "3/3 - 0s - loss: 0.2856 - mae: 0.4787 - val_loss: 0.3708 - val_mae: 0.5366 - 69ms/epoch - 23ms/step\n",
      "Epoch 53/100\n",
      "3/3 - 0s - loss: 0.2816 - mae: 0.4754 - val_loss: 0.3679 - val_mae: 0.5348 - 69ms/epoch - 23ms/step\n",
      "Epoch 54/100\n",
      "3/3 - 0s - loss: 0.2778 - mae: 0.4724 - val_loss: 0.3655 - val_mae: 0.5333 - 89ms/epoch - 30ms/step\n",
      "Epoch 55/100\n",
      "3/3 - 0s - loss: 0.2736 - mae: 0.4691 - val_loss: 0.3618 - val_mae: 0.5308 - 69ms/epoch - 23ms/step\n",
      "Epoch 56/100\n",
      "3/3 - 0s - loss: 0.2700 - mae: 0.4661 - val_loss: 0.3585 - val_mae: 0.5286 - 68ms/epoch - 23ms/step\n",
      "Epoch 57/100\n",
      "3/3 - 0s - loss: 0.2660 - mae: 0.4629 - val_loss: 0.3551 - val_mae: 0.5263 - 67ms/epoch - 22ms/step\n",
      "Epoch 58/100\n",
      "3/3 - 0s - loss: 0.2627 - mae: 0.4601 - val_loss: 0.3530 - val_mae: 0.5249 - 58ms/epoch - 19ms/step\n",
      "Epoch 59/100\n",
      "3/3 - 0s - loss: 0.2592 - mae: 0.4570 - val_loss: 0.3520 - val_mae: 0.5244 - 70ms/epoch - 23ms/step\n",
      "Epoch 60/100\n",
      "3/3 - 0s - loss: 0.2553 - mae: 0.4533 - val_loss: 0.3483 - val_mae: 0.5218 - 100ms/epoch - 33ms/step\n",
      "Epoch 61/100\n",
      "3/3 - 0s - loss: 0.2517 - mae: 0.4503 - val_loss: 0.3455 - val_mae: 0.5198 - 63ms/epoch - 21ms/step\n",
      "Epoch 62/100\n",
      "3/3 - 0s - loss: 0.2482 - mae: 0.4473 - val_loss: 0.3424 - val_mae: 0.5176 - 52ms/epoch - 17ms/step\n",
      "Epoch 63/100\n",
      "3/3 - 0s - loss: 0.2445 - mae: 0.4441 - val_loss: 0.3390 - val_mae: 0.5152 - 51ms/epoch - 17ms/step\n",
      "Epoch 64/100\n",
      "3/3 - 0s - loss: 0.2414 - mae: 0.4414 - val_loss: 0.3352 - val_mae: 0.5123 - 46ms/epoch - 15ms/step\n",
      "Epoch 65/100\n",
      "3/3 - 0s - loss: 0.2378 - mae: 0.4384 - val_loss: 0.3321 - val_mae: 0.5099 - 65ms/epoch - 22ms/step\n",
      "Epoch 66/100\n",
      "3/3 - 0s - loss: 0.2346 - mae: 0.4353 - val_loss: 0.3290 - val_mae: 0.5074 - 69ms/epoch - 23ms/step\n",
      "Epoch 67/100\n",
      "3/3 - 0s - loss: 0.2315 - mae: 0.4324 - val_loss: 0.3259 - val_mae: 0.5049 - 67ms/epoch - 22ms/step\n",
      "Epoch 68/100\n",
      "3/3 - 0s - loss: 0.2282 - mae: 0.4294 - val_loss: 0.3234 - val_mae: 0.5028 - 73ms/epoch - 24ms/step\n",
      "Epoch 69/100\n",
      "3/3 - 0s - loss: 0.2249 - mae: 0.4263 - val_loss: 0.3211 - val_mae: 0.5008 - 65ms/epoch - 22ms/step\n",
      "Epoch 70/100\n",
      "3/3 - 0s - loss: 0.2218 - mae: 0.4231 - val_loss: 0.3182 - val_mae: 0.4983 - 65ms/epoch - 22ms/step\n",
      "Epoch 71/100\n",
      "3/3 - 0s - loss: 0.2187 - mae: 0.4200 - val_loss: 0.3153 - val_mae: 0.4958 - 64ms/epoch - 21ms/step\n",
      "Epoch 72/100\n",
      "3/3 - 0s - loss: 0.2157 - mae: 0.4170 - val_loss: 0.3124 - val_mae: 0.4933 - 64ms/epoch - 21ms/step\n",
      "Epoch 73/100\n",
      "3/3 - 0s - loss: 0.2126 - mae: 0.4141 - val_loss: 0.3087 - val_mae: 0.4901 - 64ms/epoch - 21ms/step\n"
     ]
    },
    {
     "name": "stdout",
     "output_type": "stream",
     "text": [
      "Epoch 74/100\n",
      "3/3 - 0s - loss: 0.2095 - mae: 0.4111 - val_loss: 0.3055 - val_mae: 0.4874 - 64ms/epoch - 21ms/step\n",
      "Epoch 75/100\n",
      "3/3 - 0s - loss: 0.2065 - mae: 0.4081 - val_loss: 0.3027 - val_mae: 0.4850 - 65ms/epoch - 22ms/step\n",
      "Epoch 76/100\n",
      "3/3 - 0s - loss: 0.2038 - mae: 0.4052 - val_loss: 0.3000 - val_mae: 0.4827 - 67ms/epoch - 22ms/step\n",
      "Epoch 77/100\n",
      "3/3 - 0s - loss: 0.2008 - mae: 0.4020 - val_loss: 0.2966 - val_mae: 0.4797 - 65ms/epoch - 22ms/step\n",
      "Epoch 78/100\n",
      "3/3 - 0s - loss: 0.1982 - mae: 0.3995 - val_loss: 0.2928 - val_mae: 0.4766 - 65ms/epoch - 22ms/step\n",
      "Epoch 79/100\n",
      "3/3 - 0s - loss: 0.1951 - mae: 0.3962 - val_loss: 0.2908 - val_mae: 0.4753 - 66ms/epoch - 22ms/step\n",
      "Epoch 80/100\n",
      "3/3 - 0s - loss: 0.1921 - mae: 0.3931 - val_loss: 0.2883 - val_mae: 0.4737 - 64ms/epoch - 21ms/step\n",
      "Epoch 81/100\n",
      "3/3 - 0s - loss: 0.1896 - mae: 0.3902 - val_loss: 0.2864 - val_mae: 0.4725 - 64ms/epoch - 21ms/step\n",
      "Epoch 82/100\n",
      "3/3 - 0s - loss: 0.1864 - mae: 0.3868 - val_loss: 0.2836 - val_mae: 0.4705 - 64ms/epoch - 21ms/step\n",
      "Epoch 83/100\n",
      "3/3 - 0s - loss: 0.1836 - mae: 0.3839 - val_loss: 0.2808 - val_mae: 0.4684 - 64ms/epoch - 21ms/step\n",
      "Epoch 84/100\n",
      "3/3 - 0s - loss: 0.1807 - mae: 0.3809 - val_loss: 0.2776 - val_mae: 0.4660 - 64ms/epoch - 21ms/step\n",
      "Epoch 85/100\n",
      "3/3 - 0s - loss: 0.1781 - mae: 0.3781 - val_loss: 0.2738 - val_mae: 0.4630 - 64ms/epoch - 21ms/step\n",
      "Epoch 86/100\n",
      "3/3 - 0s - loss: 0.1753 - mae: 0.3752 - val_loss: 0.2709 - val_mae: 0.4607 - 74ms/epoch - 25ms/step\n",
      "Epoch 87/100\n",
      "3/3 - 0s - loss: 0.1727 - mae: 0.3724 - val_loss: 0.2673 - val_mae: 0.4577 - 64ms/epoch - 21ms/step\n",
      "Epoch 88/100\n",
      "3/3 - 0s - loss: 0.1699 - mae: 0.3695 - val_loss: 0.2644 - val_mae: 0.4553 - 65ms/epoch - 22ms/step\n",
      "Epoch 89/100\n",
      "3/3 - 0s - loss: 0.1674 - mae: 0.3665 - val_loss: 0.2622 - val_mae: 0.4537 - 63ms/epoch - 21ms/step\n",
      "Epoch 90/100\n",
      "3/3 - 0s - loss: 0.1648 - mae: 0.3635 - val_loss: 0.2591 - val_mae: 0.4511 - 67ms/epoch - 22ms/step\n",
      "Epoch 91/100\n",
      "3/3 - 0s - loss: 0.1623 - mae: 0.3607 - val_loss: 0.2562 - val_mae: 0.4486 - 72ms/epoch - 24ms/step\n",
      "Epoch 92/100\n",
      "3/3 - 0s - loss: 0.1598 - mae: 0.3577 - val_loss: 0.2536 - val_mae: 0.4465 - 66ms/epoch - 22ms/step\n",
      "Epoch 93/100\n",
      "3/3 - 0s - loss: 0.1573 - mae: 0.3548 - val_loss: 0.2509 - val_mae: 0.4443 - 63ms/epoch - 21ms/step\n",
      "Epoch 94/100\n",
      "3/3 - 0s - loss: 0.1550 - mae: 0.3521 - val_loss: 0.2480 - val_mae: 0.4419 - 64ms/epoch - 21ms/step\n",
      "Epoch 95/100\n",
      "3/3 - 0s - loss: 0.1526 - mae: 0.3491 - val_loss: 0.2455 - val_mae: 0.4398 - 62ms/epoch - 21ms/step\n",
      "Epoch 96/100\n",
      "3/3 - 0s - loss: 0.1502 - mae: 0.3462 - val_loss: 0.2421 - val_mae: 0.4367 - 75ms/epoch - 25ms/step\n",
      "Epoch 97/100\n",
      "3/3 - 0s - loss: 0.1479 - mae: 0.3432 - val_loss: 0.2388 - val_mae: 0.4337 - 91ms/epoch - 30ms/step\n",
      "Epoch 98/100\n",
      "3/3 - 0s - loss: 0.1456 - mae: 0.3402 - val_loss: 0.2349 - val_mae: 0.4300 - 113ms/epoch - 38ms/step\n",
      "Epoch 99/100\n",
      "3/3 - 0s - loss: 0.1432 - mae: 0.3373 - val_loss: 0.2319 - val_mae: 0.4273 - 63ms/epoch - 21ms/step\n",
      "Epoch 100/100\n",
      "3/3 - 0s - loss: 0.1412 - mae: 0.3345 - val_loss: 0.2293 - val_mae: 0.4251 - 74ms/epoch - 25ms/step\n"
     ]
    }
   ],
   "source": [
    "history = model1.fit(X_train, y_train, epochs=100, batch_size=32,\n",
    "                       validation_split=0.3, verbose=2,shuffle=True)"
   ]
  },
  {
   "cell_type": "code",
   "execution_count": null,
   "metadata": {},
   "outputs": [],
   "source": []
  }
 ],
 "metadata": {
  "colab": {
   "provenance": []
  },
  "kernelspec": {
   "display_name": "Python 3 (ipykernel)",
   "language": "python",
   "name": "python3"
  },
  "language_info": {
   "codemirror_mode": {
    "name": "ipython",
    "version": 3
   },
   "file_extension": ".py",
   "mimetype": "text/x-python",
   "name": "python",
   "nbconvert_exporter": "python",
   "pygments_lexer": "ipython3",
   "version": "3.10.1"
  }
 },
 "nbformat": 4,
 "nbformat_minor": 1
}
